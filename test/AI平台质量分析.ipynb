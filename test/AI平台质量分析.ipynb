{
 "cells": [
  {
   "cell_type": "markdown",
   "metadata": {
    "collapsed": false
   },
   "source": [
    "# 将百度AI Studio平台视为软件测试课程教学平台，从软件测试的角度分析并回答以下三个问题：\n"
   ]
  },
  {
   "cell_type": "markdown",
   "metadata": {
    "collapsed": false
   },
   "source": [
    "> 百度AI Studio平台本身定位是人工智能开发平台，因此在本次实验题目中，将其作为课程平台分析实际意味着扭曲了平台本身的需求设计，因此可以着重于需求和设计部分进行分析。\n",
    "\n",
    "> 分析过程中可以参照慕课堂、超星等纯粹的课程平台进行对比思考。"
   ]
  },
  {
   "cell_type": "markdown",
   "metadata": {
    "collapsed": false
   },
   "source": [
    "## 详细、具体地分析其外部质量和使用质量\n",
    "\n"
   ]
  },
  {
   "cell_type": "markdown",
   "metadata": {
    "collapsed": false
   },
   "source": [
    "<* 超新星：教师课程班级的创建，作业,签到，讨论的发布;学生班级，课程的加入，课程的学习，作业的提交，签到*>\n",
    "* ### 外部质量\n",
    "> 可拓展性\n",
    ">> 1.AI Studio基于课堂学习功能的实现，很容易拓展其他相关的需求，如：：签到，发布讨论等\n",
    "\n",
    ">功能性\n",
    ">>1. AI Studio基本功能已具备，且具有一些有用的版本管理，系统环境的提供，但与超新星等纯粹的课程平台比起来，还是缺乏一些重要需求的实现。\n",
    "\n",
    ">可靠性\n",
    ">> 1.AI Studio是基于百度深度学习平台飞桨的人工智能学习与实训社区,可靠性可以得到一定保障。\n",
    "\n",
    ">安全性\n",
    ">> 1.AI Studio是基于百度深度学习平台飞桨的人工智能学习与实训社区，安全性可以得到一定保障\n",
    "\n",
    "* ### 使用质量\n",
    "> 易用性\n",
    ">> 1.该平台使用起来，入手较为简单，功能较为强大，极大的方便了用户的使用。\n",
    "\n",
    "> 性能\n",
    ">> 1. 在网络正常的情况下，响应较快，延迟较短。\n",
    ">> 2. 并发用户数可以处于一个较高的数字。\n",
    ">> 3. 资源利用率较高，系统自动检测用户的使用状态，在系统检测到闲置时，将自动回收资源。\n"
   ]
  },
  {
   "cell_type": "markdown",
   "metadata": {
    "collapsed": false
   },
   "source": [
    "## 讨论其需求评审、设计评审可能要关注的点\n"
   ]
  },
  {
   "cell_type": "markdown",
   "metadata": {
    "collapsed": false
   },
   "source": [
    "* ### 需求评审\n",
    ">1. 是否真正理解了客户的需求\n",
    ">2. 是否理解到了客户的一些潜在需求（签到等）\n",
    ">3. 检查需求说明书的准确性与一致性 \n",
    "\n",
    "* ### 设计评审\n",
    ">1. 关注系统设计的合理性（采用的设计模式是否合理），以及是否具有良好的可测试性"
   ]
  },
  {
   "cell_type": "markdown",
   "metadata": {
    "collapsed": false
   },
   "source": [
    "## 讨论功能和非功能性的测试目标\n"
   ]
  },
  {
   "cell_type": "markdown",
   "metadata": {
    "collapsed": false
   },
   "source": [
    "* ### 功能性测试目标\n",
    ">针对AI Studio的课堂教学模块，根据功能说明书，从用户的角度对所有功能进行检验，确认每个功能是否能够正常使用。 \n",
    "\n",
    "* ### 非功能性测试目标\n",
    "> 非功能性测试主要指将系统部署到相应的平台时，针对相关的软硬件平台做相关的兼容性、安全性、强度，性能测试\n"
   ]
  },
  {
   "cell_type": "code",
   "execution_count": null,
   "metadata": {
    "collapsed": false
   },
   "outputs": [],
   "source": []
  }
 ],
 "metadata": {
  "kernelspec": {
   "display_name": "PaddlePaddle 2.0.0b0 (Python 3.5)",
   "language": "python",
   "name": "py35-paddle1.2.0"
  },
  "language_info": {
   "codemirror_mode": {
    "name": "ipython",
    "version": 3
   },
   "file_extension": ".py",
   "mimetype": "text/x-python",
   "name": "python",
   "nbconvert_exporter": "python",
   "pygments_lexer": "ipython3",
   "version": "3.7.4"
  }
 },
 "nbformat": 4,
 "nbformat_minor": 1
}
