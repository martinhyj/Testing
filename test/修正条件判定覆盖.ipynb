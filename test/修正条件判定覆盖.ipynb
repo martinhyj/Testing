{
 "cells": [
  {
   "cell_type": "markdown",
   "metadata": {
    "collapsed": false
   },
   "source": [
    "# 修正条件判定覆盖"
   ]
  },
  {
   "cell_type": "markdown",
   "metadata": {
    "collapsed": false
   },
   "source": [
    "二叉树法生成MC/DC测试用例\n",
    "\n",
    "**(A and (B or C)) or ( D or (E and F))**"
   ]
  },
  {
   "cell_type": "markdown",
   "metadata": {
    "collapsed": false
   },
   "source": [
    "## 任务1: 完成从表达式到二叉树的代码，即将表达式作为函数输入，保存了二叉树的变量栈作为函数的输出。在代码实现后将题目作为输入，能够得到对应的二叉树变量栈\n",
    "\n",
    "参考PPT110页，以及数据结构中关于表达式的二叉树构建程序"
   ]
  },
  {
   "cell_type": "code",
   "execution_count": 18,
   "metadata": {
    "collapsed": false
   },
   "outputs": [
    {
     "name": "stdout",
     "output_type": "stream",
     "text": [
      "请条件输入表达式，操作符与条件均用用空格分隔\n",
      "二叉树变量栈：\n",
      "前缀表达\n",
      "[['or', ['or', ['and', 'F', 'E'], 'D'], ['and', ['or', 'C', 'B'], 'A']]]\n"
     ]
    }
   ],
   "source": [
    "#表达式输入格式\n",
    "#运算符为 \"and\", \"or\", \"(\", \")\"\"\n",
    "if __name__==\"__main__\":\n",
    "    exp=input(\"请条件输入表达式，操作符与条件均用用空格分隔\").strip().split(\" \")\n",
    "    exp=[\"(\"]+exp+[\")\"]\n",
    "\n",
    "    var_stack=[]\n",
    "    op_stack=[]\n",
    "\n",
    "    for ex in exp:\n",
    "        if ex not in [\"and\",\"or\",\"(\",\")\"]:\n",
    "            var_stack.append(ex)\n",
    "        else:\n",
    "            if not op_stack:\n",
    "                op_stack.append(ex)\n",
    "            else:\n",
    "                if ex==\"or\":\n",
    "                    while(len(op_stack)>0 and op_stack[-1] == \"and\"):\n",
    "                        var_stack.append([op_stack.pop(),var_stack.pop(),var_stack.pop()])\n",
    "                    op_stack.append(ex)\n",
    "\n",
    "                elif ex==\")\":\n",
    "                    while(op_stack[-1] != \"(\"):\n",
    "                        var_stack.append([op_stack.pop(),var_stack.pop(),var_stack.pop()])\n",
    "                    op_stack.pop()\n",
    "                else:\n",
    "                    op_stack.append(ex)\n",
    "\n",
    "print()\n",
    "print(\"二叉树变量栈：\")\n",
    "print(\"前缀表达\")\n",
    "print(var_stack)"
   ]
  },
  {
   "cell_type": "markdown",
   "metadata": {
    "collapsed": false
   },
   "source": [
    "## 任务2: 画出二叉树的结构\n",
    "![](https://ai-studio-static-online.cdn.bcebos.com/4ec94abb871042c5aae0555413ab384996d310abdf2844fca18cba51a7e20adf)\n",
    "\n",
    "\n"
   ]
  },
  {
   "cell_type": "markdown",
   "metadata": {
    "collapsed": false
   },
   "source": [
    "## 任务3： 对逻辑变量C进行独立判定的测试用例分析，并标出每一个逻辑变量的取值。可参考PPT114页，并需要在图中或者说明中给出每个逻辑变量获得取值的先后顺序。   \n",
    "\n",
    "### 分析   \n",
    "从C**向上标注**，父节点为or,则B为False\n",
    "2号节点为and，则A为True\n",
    "到达根节点为or，则3号节点为False   \n",
    "\n",
    "**向下标注**，节点2处于影响路径上\n",
    "节点3为False,则节点6，7均为False\n",
    "节点7为and，取10,11分别为False,True\n",
    "\n",
    "顺序:   \n",
    "B->F   \n",
    "A->T   \n",
    "D->F   \n",
    "E->T   \n",
    "F->F\n",
    "\n",
    "### 标记图\n",
    "![](https://ai-studio-static-online.cdn.bcebos.com/ba11af8042284ee4926378f672419407ceaae2dd563041258cabd2ccabeea948)\n"
   ]
  },
  {
   "cell_type": "markdown",
   "metadata": {
    "collapsed": false
   },
   "source": [
    "## 任务4： 以表格的形式分别给出对变量C和变量D的独立影响测试用例\n",
    "   \n",
    "### C/D独立影响测试用例\n",
    "![](https://ai-studio-static-online.cdn.bcebos.com/15fa56232b974fb9a26f9084a81921f5ffca86172b0d4c58bd1d9d4263bba934)\n"
   ]
  }
 ],
 "metadata": {
  "kernelspec": {
   "display_name": "PaddlePaddle 2.0.0b0 (Python 3.5)",
   "language": "python",
   "name": "py35-paddle1.2.0"
  },
  "language_info": {
   "codemirror_mode": {
    "name": "ipython",
    "version": 3
   },
   "file_extension": ".py",
   "mimetype": "text/x-python",
   "name": "python",
   "nbconvert_exporter": "python",
   "pygments_lexer": "ipython3",
   "version": "3.7.4"
  }
 },
 "nbformat": 4,
 "nbformat_minor": 1
}
