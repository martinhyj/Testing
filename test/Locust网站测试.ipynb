{
 "cells": [
  {
   "cell_type": "markdown",
   "metadata": {
    "collapsed": false
   },
   "source": [
    "# 利用Locust进行网站负载测试"
   ]
  },
  {
   "cell_type": "markdown",
   "metadata": {
    "collapsed": false
   },
   "source": [
    "## 问题描述\n",
    "\n",
    "在本地安装Locust，并使用Locust对开源软件杯小组作业网站进行负载测试。\n"
   ]
  },
  {
   "cell_type": "markdown",
   "metadata": {
    "collapsed": false
   },
   "source": [
    "## 参考资料\n",
    "[Locust：入门攻略](https://www.jianshu.com/p/398c5438956a)\n",
    "\n",
    "[Locust：简介和基本用法](https://www.cnblogs.com/imyalost/p/9758189.html)\n",
    "\n",
    "[python+locust性能测试学习笔记](https://blog.csdn.net/sinat_32202805/article/details/106629132)"
   ]
  },
  {
   "cell_type": "markdown",
   "metadata": {
    "collapsed": false
   },
   "source": []
  },
  {
   "cell_type": "markdown",
   "metadata": {
    "collapsed": false
   },
   "source": [
    "## 测试过程与测试结果"
   ]
  },
  {
   "cell_type": "markdown",
   "metadata": {
    "collapsed": false
   },
   "source": [
    "### 1.测试代码"
   ]
  },
  {
   "cell_type": "code",
   "execution_count": null,
   "metadata": {
    "collapsed": false
   },
   "outputs": [],
   "source": [
    "import random\n",
    "from locust import HttpUser, task, between\n",
    "\n",
    "class QuickstartUser(HttpUser):\n",
    "    wait_time = between(5, 9)\n",
    "\n",
    "    # 访问两个页面\n",
    "    @task(3)\n",
    "    def index_page(self):\n",
    "        self.client.get(\"/detail.html\")  # 这里的地址需要排除host部分\n",
    "        self.client.get(\"/jindian.html\")\n",
    "\n",
    "    def on_start(self):\n",
    "        self.client.post(\"/\")"
   ]
  },
  {
   "cell_type": "markdown",
   "metadata": {
    "collapsed": false
   },
   "source": [
    "### 2.测试过程   \n",
    "\n",
    "* 设置模拟用户的总数，每秒启动的用户数，和请求的host（www.falleg.top）\n",
    "![](https://ai-studio-static-online.cdn.bcebos.com/45d3d2de179e4803b6a73e398e290d23e235115b800f42738d99ec455fec3dc0)\n"
   ]
  },
  {
   "cell_type": "markdown",
   "metadata": {
    "collapsed": false
   },
   "source": [
    "### 3.测试结果（分析）\n",
    "\n",
    "#### 测试结果界面\n",
    "![](https://ai-studio-static-online.cdn.bcebos.com/bf40237557ad496a8dae284f98e97a5ed9dc85479e9f4533b2010a556efba39c)   \n",
    "   \n",
    "#### 图表展示\n",
    "![](https://ai-studio-static-online.cdn.bcebos.com/de04b02cb1e4460bb8158fb8b2ac4e7dd6cbffe4999442a685ccd2a22af15cfd)"
   ]
  },
  {
   "cell_type": "code",
   "execution_count": null,
   "metadata": {
    "collapsed": false
   },
   "outputs": [],
   "source": []
  }
 ],
 "metadata": {
  "kernelspec": {
   "display_name": "PaddlePaddle 2.0.0b0 (Python 3.5)",
   "language": "python",
   "name": "py35-paddle1.2.0"
  },
  "language_info": {
   "codemirror_mode": {
    "name": "ipython",
    "version": 3
   },
   "file_extension": ".py",
   "mimetype": "text/x-python",
   "name": "python",
   "nbconvert_exporter": "python",
   "pygments_lexer": "ipython3",
   "version": "3.7.4"
  }
 },
 "nbformat": 4,
 "nbformat_minor": 1
}
