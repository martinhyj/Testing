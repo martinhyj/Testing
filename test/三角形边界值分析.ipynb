{
 "cells": [
  {
   "cell_type": "markdown",
   "metadata": {
    "collapsed": false
   },
   "source": [
    "# 边界值测试举例\n"
   ]
  },
  {
   "cell_type": "markdown",
   "metadata": {
    "collapsed": false
   },
   "source": [
    "## 问题描述\n",
    "\n",
    "有一个三角形ABC，现在根据角的大小来判断三角形的形状。在能组成三角形的前提下， 三个角形是锐角、直角、还是钝角。输入参数是 A 、 B 和  C 的角度。其 中 A 、 B 和 C 的取值范围都是 ( 0 ,180 ) ， 0 和 180 都不可取。\n",
    "\n",
    "根据输出（三角形的形状），可以分为四个等价类，分别是输出结果是钝角三角形、直 角三角形、锐角三角形和非三角形。"
   ]
  },
  {
   "cell_type": "markdown",
   "metadata": {
    "collapsed": false
   },
   "source": [
    "## 参考ppt中的内容，设计出锐角三角形的边界值分析对应的上点，离点和内点，并设计出对应的测试案例\n"
   ]
  },
  {
   "cell_type": "markdown",
   "metadata": {
    "collapsed": false
   },
   "source": [
    "![](https://tva1.sinaimg.cn/large/008eGmZEly1gow9m6o747j30cq0bgt9l.jpg)\n",
    "### 分析\n",
    "* 内点：如图“锐角”三角形（平面）内部的点均可作为内点（不包含边上的点）。\n",
    "* 上点：如图“锐角“三角形（平面）边上的点均可作为上点。\n",
    "* 离点：如图“锐角”三角形（平面）外空间中所有接近该三角形的点均可作为离点。\n",
    "### 设计\n",
    "|用例编号|   A  |  B  |  C  | 预期输出 |\n",
    "|:-----:|  :-: | :-: | :-: | :-----: |\n",
    "|1      |45    | 65  |70   | 锐角三角形|\n",
    "|2      |90    | 45  |45   | 直角三角形|\n",
    "|3      |90    | 90  |0    | 不是三角形|\n",
    "|4      |91    | 44  |45   | 钝角三角形|\n",
    "|5      |91    | 90  |0    | 不是三角形|\n",
    "|6      |89    | 45  |45   | 不是三角形|\n",
    "|7      |90    | 91  |0    | 不是三角形|\n",
    "|8      |90    | 46  |45   | 不是三角形|\n",
    "|9      |89    | 45  |46   | 锐角三角形|\n",
    "|10     |44    | 45  |91   | 钝角三角形|\n",
    "|11     |45    | 45  |90   | 直角三角形|\n",
    "|1      |45    | 90  |45   | 锐角三角形|\n"
   ]
  },
  {
   "cell_type": "markdown",
   "metadata": {
    "collapsed": false
   },
   "source": [
    "## 设计出直角三角形的边界值分析对应的上点，离点和内点，并设计出对应的测试案例\n"
   ]
  },
  {
   "cell_type": "markdown",
   "metadata": {
    "collapsed": false
   },
   "source": [
    "![](https://tva1.sinaimg.cn/large/008eGmZEly1gow9m6o747j30cq0bgt9l.jpg)\n",
    "### 分析\n",
    "* 内点：如图，“锐角“三角形（平面）边上的点，除三个顶点外均为直角三角形边界值的内点\n",
    "* 上点：如图，“锐角”三角形（平面）的三个顶点为边界值的上点（无效）\n",
    "* 离点：如图，除“锐角”三角形（平面）边上的点外，空间中所有接近这三条边的点为离点\n",
    "\n",
    "### 设计\n",
    "|用例编号|   A  |  B  |  C  | 预期输出 |\n",
    "|:-----:|  :-: | :-: | :-: | :-----: |\n",
    "|1      |89    | 45  |45   | 不是三角形|\n",
    "|2      |91    | 45  |45   | 不是三角形|\n",
    "|3      |91    | 90  |0    | 不是三角形|\n",
    "|4      |91    | 44  |45   | 钝角三角形|\n",
    "|5      |89    | 45  |46   | 锐角三角形|\n",
    "|6      |89    | 46  |45   | 锐角三角形|\n",
    "|7      |89    | 45  |46   | 锐角三角形|\n",
    "|8      |90    | 45  |45   | 直角三角形|\n",
    "|9      |90    | 10  |80   | 直角三角形|\n",
    "|10     |90    | 46  |45   | 不是三角形|\n",
    "|11     |45    | 44  |91   | 钝角三角形|\n",
    "|12     |44    | 91  |45   | 钝角三角形|\n"
   ]
  }
 ],
 "metadata": {
  "kernelspec": {
   "display_name": "PaddlePaddle 2.0.0b0 (Python 3.5)",
   "language": "python",
   "name": "py35-paddle1.2.0"
  },
  "language_info": {
   "codemirror_mode": {
    "name": "ipython",
    "version": 3
   },
   "file_extension": ".py",
   "mimetype": "text/x-python",
   "name": "python",
   "nbconvert_exporter": "python",
   "pygments_lexer": "ipython3",
   "version": "3.7.4"
  }
 },
 "nbformat": 4,
 "nbformat_minor": 1
}
