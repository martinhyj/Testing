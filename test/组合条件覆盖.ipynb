{
 "cells": [
  {
   "cell_type": "markdown",
   "metadata": {
    "collapsed": false
   },
   "source": [
    "# 三角形类型判断程序"
   ]
  },
  {
   "cell_type": "markdown",
   "metadata": {
    "collapsed": false
   },
   "source": [
    "程序从一个输入中读取三个整数值，这三个整数值代表了三角形三条边的长度。程序显示提示信息，指出该三角形是何种三角形：不规则三角形、等腰三角形还是等边三角形。"
   ]
  },
  {
   "cell_type": "markdown",
   "metadata": {
    "collapsed": false
   },
   "source": [
    "测试程序代码示例：\n",
    "\n",
    "```\n",
    "def triangle(a,b,c):\n",
    "        if (a>0 and b>0 and c>0):\n",
    "            if (a+b>c and a+c>b and b+c>a):\n",
    "                if (a==b and b==c):\n",
    "                    return (\"等边三角形\")\n",
    "                elif (a==b or b==c or a==c):\n",
    "                    return (\"等腰三角形\")\n",
    "                else:\n",
    "                    return (\"不规则三角形\")\n",
    "            else:\n",
    "                return (\"不构成三角形\")\n",
    "        else:\n",
    "            return (\"请输入大于0的数\")\n",
    "```"
   ]
  },
  {
   "cell_type": "markdown",
   "metadata": {
    "collapsed": false
   },
   "source": [
    "## 实验要求\n",
    "1. 参考组合条件覆盖示例，完成测试用例和覆盖条件的设计\n",
    "2. 安装pytest\n",
    "3. 完成程序triangle.py和test_triangle.py文件的编写\n",
    "4. 展示测试结果并进行简要分析"
   ]
  },
  {
   "cell_type": "markdown",
   "metadata": {
    "collapsed": false
   },
   "source": [
    "* 测试用例和覆盖条件的设计   \n",
    "![](https://ai-studio-static-online.cdn.bcebos.com/d8fa2f9dc0964d6da28e07abed4f3420e6fafc9ed4544b7e9f9ba45fbdf3e07d)   \n",
    "![](https://ai-studio-static-online.cdn.bcebos.com/69eaf511c82b48c9ba3f7ecff716ee8805d059096eb4453ea89c66b27449d27f)\n",
    "\n"
   ]
  },
  {
   "cell_type": "markdown",
   "metadata": {
    "collapsed": false
   },
   "source": [
    "* test_triangle.py   \n",
    "![](https://ai-studio-static-online.cdn.bcebos.com/34cb3d8895e2421fb7e75f9d72c6b41a492e961adc6a4d63bbba65310becdace)\n"
   ]
  },
  {
   "cell_type": "markdown",
   "metadata": {
    "collapsed": false
   },
   "source": [
    "* 测试结果   \n",
    "![](https://ai-studio-static-online.cdn.bcebos.com/0b3e312aa73d4d5ba367960fe007f668a5d7e3d78219435cba57fc1162cf2368)\n"
   ]
  },
  {
   "cell_type": "markdown",
   "metadata": {
    "collapsed": false
   },
   "source": [
    "* 分析   \n",
    "该测试使用pytest完成了基于条件覆盖的测试，即使得每一判定语句中 每个逻辑条件的可能值至少满足一次。如果使用组合条件覆盖，那么随着条件的增多，测试用例也会增加的非常多，并且由于短路效应，有些条件判断也会得不到执行。   \n",
    "\n",
    "*补充：条件组合覆盖，将所有逻辑变量的取值为True和False两种情况全部组合一次；   \n",
    "条件覆盖,使得每一判定语句中 每个逻辑条件的可能值至少满足一次。*"
   ]
  },
  {
   "cell_type": "code",
   "execution_count": null,
   "metadata": {
    "collapsed": false
   },
   "outputs": [],
   "source": []
  }
 ],
 "metadata": {
  "kernelspec": {
   "display_name": "PaddlePaddle 2.0.0b0 (Python 3.5)",
   "language": "python",
   "name": "py35-paddle1.2.0"
  },
  "language_info": {
   "codemirror_mode": {
    "name": "ipython",
    "version": 3
   },
   "file_extension": ".py",
   "mimetype": "text/x-python",
   "name": "python",
   "nbconvert_exporter": "python",
   "pygments_lexer": "ipython3",
   "version": "3.7.4"
  }
 },
 "nbformat": 4,
 "nbformat_minor": 1
}
