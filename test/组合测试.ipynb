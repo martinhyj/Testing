{
 "cells": [
  {
   "cell_type": "markdown",
   "metadata": {
    "collapsed": false
   },
   "source": [
    "# 组合测试\n",
    "## 拉丁方阵\n",
    "假设存在一个应用，界面如下图所示。该应用的三个文本框均可以输入A，B，C，D，E五个字母，并根据不同的输入展示不同的结果。在当前情况下，如何利用拉丁方阵的思想设计一个符合要求的组合测试用例集？请列出对应的拉丁方阵以及测试用例集。\n",
    "![](https://ai-studio-static-online.cdn.bcebos.com/302b737bf48a4aee8d8de9cb945a2fe4b3ca4dfd24d241129b094fccf4dc9439)\n"
   ]
  },
  {
   "cell_type": "markdown",
   "metadata": {
    "collapsed": false
   },
   "source": [
    "### 1.拉丁方阵\n",
    "![](https://ai-studio-static-online.cdn.bcebos.com/1490a108261e48debd4f2354d2986b8d3588e94626ec4eb898ce26590818841d)\n",
    "\n",
    "\n",
    "### 2.测试用例集\n",
    "![](https://ai-studio-static-online.cdn.bcebos.com/b3103401f93d4184b76ce9636e78b5c93099c69a713f4841b7b0a53f1efaff58)\n",
    "\n"
   ]
  },
  {
   "cell_type": "markdown",
   "metadata": {
    "collapsed": false
   },
   "source": [
    "## allpairspy的使用\n",
    "1.参考官方文档安装allpairspy\n",
    "\n",
    "[官方参考文档](https://pypi.org/project/allpairspy/)\n",
    "\n",
    "2.运行官方文档提供的样例\n",
    "\n",
    "3.将拉丁方阵中的问题用allpairspy实现测试用例集的生成\n",
    "\n",
    "4.用allpairspy实现$L_{16}(4^4*2^3)$ 测试用例集的生成"
   ]
  },
  {
   "cell_type": "markdown",
   "metadata": {
    "collapsed": false
   },
   "source": [
    "### 2运行官方文档提供的样例"
   ]
  },
  {
   "cell_type": "code",
   "execution_count": 1,
   "metadata": {
    "collapsed": false
   },
   "outputs": [
    {
     "name": "stdout",
     "output_type": "stream",
     "text": [
      "PAIRWISE:\n",
      " 0: ['Brand X', '98', 'Internal', 'Salaried', 6]\n",
      " 1: ['Brand Y', 'NT', 'Modem', 'Hourly', 6]\n",
      " 2: ['Brand Y', '2000', 'Internal', 'Part-Time', 10]\n",
      " 3: ['Brand X', 'XP', 'Modem', 'Contr.', 10]\n",
      " 4: ['Brand X', '2000', 'Modem', 'Part-Time', 15]\n",
      " 5: ['Brand Y', 'XP', 'Internal', 'Hourly', 15]\n",
      " 6: ['Brand Y', '98', 'Modem', 'Salaried', 30]\n",
      " 7: ['Brand X', 'NT', 'Internal', 'Contr.', 30]\n",
      " 8: ['Brand X', '98', 'Internal', 'Hourly', 60]\n",
      " 9: ['Brand Y', '2000', 'Modem', 'Contr.', 60]\n",
      "10: ['Brand Y', 'NT', 'Modem', 'Salaried', 60]\n",
      "11: ['Brand Y', 'XP', 'Modem', 'Part-Time', 60]\n",
      "12: ['Brand Y', '2000', 'Modem', 'Hourly', 30]\n",
      "13: ['Brand Y', '98', 'Modem', 'Contr.', 15]\n",
      "14: ['Brand Y', 'XP', 'Modem', 'Salaried', 15]\n",
      "15: ['Brand Y', 'NT', 'Modem', 'Part-Time', 15]\n",
      "16: ['Brand Y', 'XP', 'Modem', 'Part-Time', 30]\n",
      "17: ['Brand Y', '98', 'Modem', 'Part-Time', 6]\n",
      "18: ['Brand Y', '2000', 'Modem', 'Salaried', 6]\n",
      "19: ['Brand Y', '98', 'Modem', 'Salaried', 10]\n",
      "20: ['Brand Y', 'XP', 'Modem', 'Contr.', 6]\n",
      "21: ['Brand Y', 'NT', 'Modem', 'Hourly', 10]\n"
     ]
    }
   ],
   "source": [
    "from allpairspy import AllPairs\n",
    "\n",
    "parameters = [\n",
    "    [\"Brand X\", \"Brand Y\"],\n",
    "    [\"98\", \"NT\", \"2000\", \"XP\"],\n",
    "    [\"Internal\", \"Modem\"],\n",
    "    [\"Salaried\", \"Hourly\", \"Part-Time\", \"Contr.\"],\n",
    "    [6, 10, 15, 30, 60],\n",
    "]\n",
    "\n",
    "print(\"PAIRWISE:\")\n",
    "for i, pairs in enumerate(AllPairs(parameters)):\n",
    "    print(\"{:2d}: {}\".format(i, pairs))"
   ]
  },
  {
   "cell_type": "markdown",
   "metadata": {
    "collapsed": false
   },
   "source": [
    "### 3将拉丁方阵中的问题用allpairspy实现测试用例集的生成"
   ]
  },
  {
   "cell_type": "code",
   "execution_count": 4,
   "metadata": {
    "collapsed": false
   },
   "outputs": [
    {
     "name": "stdout",
     "output_type": "stream",
     "text": [
      "PAIRWISE:\n",
      " 0: ['A', 'A', 'A']\n",
      " 1: ['B', 'B', 'A']\n",
      " 2: ['C', 'C', 'A']\n",
      " 3: ['D', 'D', 'A']\n",
      " 4: ['E', 'E', 'A']\n",
      " 5: ['E', 'D', 'B']\n",
      " 6: ['D', 'C', 'B']\n",
      " 7: ['C', 'B', 'B']\n",
      " 8: ['B', 'A', 'B']\n",
      " 9: ['A', 'E', 'B']\n",
      "10: ['A', 'D', 'C']\n",
      "11: ['B', 'C', 'C']\n",
      "12: ['C', 'E', 'C']\n",
      "13: ['D', 'A', 'C']\n",
      "14: ['E', 'B', 'C']\n",
      "15: ['E', 'A', 'D']\n",
      "16: ['D', 'B', 'D']\n",
      "17: ['C', 'D', 'D']\n",
      "18: ['B', 'E', 'D']\n",
      "19: ['A', 'C', 'D']\n",
      "20: ['A', 'B', 'E']\n",
      "21: ['B', 'D', 'E']\n",
      "22: ['C', 'A', 'E']\n",
      "23: ['D', 'E', 'E']\n",
      "24: ['E', 'C', 'E']\n"
     ]
    }
   ],
   "source": [
    "parameters = [\n",
    "    [\"A\",\"B\",\"C\",\"D\",\"E\"],\n",
    "    [\"A\",\"B\",\"C\",\"D\",\"E\"],\n",
    "    [\"A\",\"B\",\"C\",\"D\",\"E\"]\n",
    "]\n",
    "\n",
    "print(\"PAIRWISE:\")\n",
    "for i, pairs in enumerate(AllPairs(parameters)):\n",
    "    print(\"{:2d}: {}\".format(i, pairs))"
   ]
  },
  {
   "cell_type": "markdown",
   "metadata": {
    "collapsed": false
   },
   "source": [
    "### 4用allpairspy实现$L_{16}(4^4*2^3)$ 测试用例集的生成"
   ]
  },
  {
   "cell_type": "code",
   "execution_count": 3,
   "metadata": {
    "collapsed": false
   },
   "outputs": [
    {
     "name": "stdout",
     "output_type": "stream",
     "text": [
      "PAIRWISE:\n",
      " 0: ['A', 'E', 'I', 'M', 'Q', 'T', 'W']\n",
      " 1: ['B', 'F', 'J', 'N', 'R', 'U', 'W']\n",
      " 2: ['C', 'G', 'K', 'O', 'R', 'T', 'X']\n",
      " 3: ['D', 'H', 'L', 'P', 'Q', 'U', 'X']\n",
      " 4: ['D', 'G', 'J', 'M', 'Q', 'U', 'X']\n",
      " 5: ['C', 'F', 'I', 'P', 'Q', 'U', 'X']\n",
      " 6: ['B', 'E', 'L', 'O', 'Q', 'U', 'X']\n",
      " 7: ['A', 'H', 'K', 'N', 'Q', 'U', 'X']\n",
      " 8: ['D', 'F', 'K', 'O', 'R', 'T', 'W']\n",
      " 9: ['A', 'G', 'L', 'P', 'R', 'T', 'W']\n",
      "10: ['B', 'H', 'I', 'M', 'R', 'T', 'W']\n",
      "11: ['C', 'E', 'J', 'N', 'R', 'T', 'W']\n",
      "12: ['C', 'H', 'J', 'O', 'R', 'T', 'W']\n",
      "13: ['B', 'G', 'K', 'P', 'R', 'T', 'W']\n",
      "14: ['A', 'F', 'L', 'M', 'R', 'T', 'W']\n",
      "15: ['D', 'E', 'I', 'N', 'R', 'T', 'W']\n",
      "16: ['A', 'E', 'K', 'O', 'R', 'T', 'W']\n",
      "17: ['C', 'G', 'I', 'O', 'R', 'T', 'W']\n",
      "18: ['C', 'G', 'L', 'N', 'R', 'T', 'W']\n",
      "19: ['C', 'E', 'K', 'M', 'R', 'T', 'W']\n",
      "20: ['A', 'E', 'J', 'P', 'R', 'T', 'W']\n"
     ]
    }
   ],
   "source": [
    "parameters = [\n",
    "    [\"A\",\"B\",\"C\",\"D\"],\n",
    "    [\"E\",\"F\",\"G\",\"H\"],\n",
    "    [\"I\",\"J\",\"K\",\"L\"],\n",
    "    [\"M\",\"N\",\"O\",\"P\"],\n",
    "    [\"Q\",\"R\"],\n",
    "    [\"T\",\"U\"],\n",
    "    [\"W\",\"X\"]\n",
    "]\n",
    "\n",
    "print(\"PAIRWISE:\")\n",
    "for i, pairs in enumerate(AllPairs(parameters)):\n",
    "    print(\"{:2d}: {}\".format(i, pairs))"
   ]
  },
  {
   "cell_type": "code",
   "execution_count": null,
   "metadata": {
    "collapsed": false
   },
   "outputs": [],
   "source": []
  }
 ],
 "metadata": {
  "kernelspec": {
   "display_name": "PaddlePaddle 2.0.0b0 (Python 3.5)",
   "language": "python",
   "name": "py35-paddle1.2.0"
  },
  "language_info": {
   "codemirror_mode": {
    "name": "ipython",
    "version": 3
   },
   "file_extension": ".py",
   "mimetype": "text/x-python",
   "name": "python",
   "nbconvert_exporter": "python",
   "pygments_lexer": "ipython3",
   "version": "3.7.4"
  }
 },
 "nbformat": 4,
 "nbformat_minor": 1
}
