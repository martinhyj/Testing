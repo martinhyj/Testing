{
 "cells": [
  {
   "cell_type": "markdown",
   "metadata": {
    "collapsed": false
   },
   "source": [
    "# 根据调用函数的要求设计一个网页测试流程"
   ]
  },
  {
   "cell_type": "markdown",
   "metadata": {
    "collapsed": false
   },
   "source": [
    "## 问题描述\n",
    "\n",
    "目标网页：https://www.lagou.com/zhaopin/\n",
    "完成重庆市计算机行业工作的查找，月薪5k-10k\n",
    "要求调用到的方法：\n",
    "1.下拉菜单的选择；\n",
    "2.xpath定位"
   ]
  },
  {
   "cell_type": "markdown",
   "metadata": {
    "collapsed": false
   },
   "source": [
    "## 测试过程与测试结果"
   ]
  },
  {
   "cell_type": "markdown",
   "metadata": {
    "collapsed": false
   },
   "source": [
    "### 代码截图   \n",
    "![](https://ai-studio-static-online.cdn.bcebos.com/439809625fc54c979d4c5769a8de644227f04608b262403489f8e7817f4ae438)\n"
   ]
  },
  {
   "cell_type": "markdown",
   "metadata": {
    "collapsed": false
   },
   "source": [
    " ### 测试截图\n",
    "* 搜索计算机\n",
    "![](https://ai-studio-static-online.cdn.bcebos.com/6ba95744fe684d3eb1a194ad6d6fdb6da648f38a6ec14686b8509144d67b4fcf)\n",
    "\n",
    "* 选择城市，薪资\n",
    "![](https://ai-studio-static-online.cdn.bcebos.com/7a0fc7c8b69e41bd8d2763079d8846a08a97b4396d1146c8b8d7072fdd9bb671)\n"
   ]
  },
  {
   "cell_type": "code",
   "execution_count": null,
   "metadata": {
    "collapsed": false
   },
   "outputs": [],
   "source": []
  }
 ],
 "metadata": {
  "kernelspec": {
   "display_name": "PaddlePaddle 2.1.0 (Python 3.5)",
   "language": "python",
   "name": "py35-paddle1.2.0"
  },
  "language_info": {
   "codemirror_mode": {
    "name": "ipython",
    "version": 3
   },
   "file_extension": ".py",
   "mimetype": "text/x-python",
   "name": "python",
   "nbconvert_exporter": "python",
   "pygments_lexer": "ipython3",
   "version": "3.7.4"
  }
 },
 "nbformat": 4,
 "nbformat_minor": 1
}
