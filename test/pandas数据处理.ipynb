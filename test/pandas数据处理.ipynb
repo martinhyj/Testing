{
 "cells": [
  {
   "cell_type": "markdown",
   "metadata": {
    "collapsed": false
   },
   "source": [
    "请点击此处查看本环境基本用法.\n",
    "Please click here for more detailed instructions."
   ]
  },
  {
   "cell_type": "markdown",
   "metadata": {
    "collapsed": false
   },
   "source": [
    "#Python多维数组与Pandas作业"
   ]
  },
  {
   "cell_type": "markdown",
   "metadata": {
    "collapsed": false
   },
   "source": [
    "# 本实验练习数组、Series、DataFrame对象的使用，包括创建、查询、修改和维护等操作，以及存取数据文件和进行数据可视化的方法。"
   ]
  },
  {
   "cell_type": "code",
   "execution_count": null,
   "metadata": {
    "collapsed": true
   },
   "outputs": [],
   "source": [
    "import pandas as pd      #引入Pandas\n",
    "import numpy as np       #引入numpy \n",
    "from pandas import Series, DataFrame  #从Pandas引入Series和DataFrame对象"
   ]
  },
  {
   "cell_type": "markdown",
   "metadata": {
    "collapsed": false
   },
   "source": [
    "# 1.数组的使用\n",
    "“天天”、“家乐”、“联华”和“农工”四个超市都卖苹果、香蕉、桔子和芒果四种水果。使用NumPy创建一维和二维数组对象，管理超市水果价格。"
   ]
  },
  {
   "cell_type": "code",
   "execution_count": 20,
   "metadata": {
    "collapsed": false
   },
   "outputs": [],
   "source": [
    "#1)创建2个一维数组分别存储超市名称和水果名称；\r\n",
    "import numpy as np\r\n",
    "store=np.array([\"天天\",\"家乐\",\"联华\",\"农工\"])\r\n",
    "fruit=np.array([\"苹果\",\"香蕉\",\"桔子\",\"芒果\"])\r\n"
   ]
  },
  {
   "cell_type": "code",
   "execution_count": null,
   "metadata": {
    "collapsed": false
   },
   "outputs": [
    {
     "data": {
      "text/plain": [
       "array([[ 8,  8,  7,  4],\n",
       "       [ 5,  8,  5,  9],\n",
       "       [ 8,  4,  5,  7],\n",
       "       [ 8,  9, 10,  7]])"
      ]
     },
     "execution_count": null,
     "metadata": {},
     "output_type": "execute_result"
    }
   ],
   "source": [
    "#2)创建1个4×4的二维数组存放各超市的水果价格，价格由4到10的随机数生成；\r\n",
    "\r\n",
    "price=np.random.randint(4,11,size=(4,4))\r\n",
    "price"
   ]
  },
  {
   "cell_type": "code",
   "execution_count": null,
   "metadata": {
    "collapsed": false
   },
   "outputs": [
    {
     "data": {
      "text/plain": [
       "array([[ 9,  8,  7,  4],\n",
       "       [ 5,  8,  5,  9],\n",
       "       [ 8,  4,  5,  7],\n",
       "       [ 8,  9, 10,  7]])"
      ]
     },
     "execution_count": null,
     "metadata": {},
     "output_type": "execute_result"
    }
   ],
   "source": [
    "#3)将“天天”的苹果价格增加1元；\r\n",
    "price[store==\"天天\",fruit==\"苹果\"]+=1\r\n",
    "price"
   ]
  },
  {
   "cell_type": "code",
   "execution_count": null,
   "metadata": {
    "collapsed": false
   },
   "outputs": [
    {
     "data": {
      "text/plain": [
       "array([[9, 8, 7, 4],\n",
       "       [5, 8, 5, 9],\n",
       "       [8, 4, 5, 7],\n",
       "       [6, 7, 8, 5]])"
      ]
     },
     "execution_count": null,
     "metadata": {},
     "output_type": "execute_result"
    }
   ],
   "source": [
    "#4)将“农工”的所有水果价格减少2元；\r\n",
    "price[store==\"农工\",:]-=2\r\n",
    "price"
   ]
  },
  {
   "cell_type": "code",
   "execution_count": null,
   "metadata": {
    "collapsed": false
   },
   "outputs": [
    {
     "data": {
      "text/plain": [
       "array([7.  , 6.75, 6.25, 6.25])"
      ]
     },
     "execution_count": null,
     "metadata": {},
     "output_type": "execute_result"
    }
   ],
   "source": [
    "#5)统计四个超市各类水果的销售均价；\r\n",
    "price.mean(axis=0)"
   ]
  },
  {
   "cell_type": "code",
   "execution_count": null,
   "metadata": {
    "collapsed": false
   },
   "outputs": [
    {
     "data": {
      "text/plain": [
       "array(['农工'], dtype='<U2')"
      ]
     },
     "execution_count": null,
     "metadata": {},
     "output_type": "execute_result"
    }
   ],
   "source": [
    "#6)找出桔子价格最贵的超市名称（不是编号）\n",
    "store[price[:,2]==max(price[:,2])]"
   ]
  },
  {
   "cell_type": "markdown",
   "metadata": {
    "collapsed": false
   },
   "source": [
    "# 2.Series的使用\n",
    "创建一个Series对象存放学校一年内各类活动次数。"
   ]
  },
  {
   "cell_type": "code",
   "execution_count": null,
   "metadata": {
    "collapsed": false
   },
   "outputs": [
    {
     "data": {
      "text/plain": [
       "讲座     70\n",
       "演出     15\n",
       "科技赛    82\n",
       "会议     20\n",
       "球赛      8\n",
       "dtype: int64"
      ]
     },
     "execution_count": null,
     "metadata": {},
     "output_type": "execute_result"
    }
   ],
   "source": [
    "#1)创建Series对象存储如下信息：讲座:70, 演出:15, 科技赛:82，会议:20，球赛:8；\n",
    "import pandas as pd\n",
    "s=pd.Series([70,15,82,20,8],[\"讲座\",\"演出\",\"科技赛\",\"会议\",\"球赛\"],dtype=int)\n",
    "s"
   ]
  },
  {
   "cell_type": "code",
   "execution_count": null,
   "metadata": {
    "collapsed": false
   },
   "outputs": [
    {
     "data": {
      "text/plain": [
       "讲座     70\n",
       "演出     15\n",
       "科技赛    82\n",
       "会议     20\n",
       "球赛      8\n",
       "论坛     12\n",
       "dtype: int64"
      ]
     },
     "execution_count": null,
     "metadata": {},
     "output_type": "execute_result"
    }
   ],
   "source": [
    "#2)增加活动：论坛:12；\n",
    "s[\"论坛\"]=12\n",
    "s"
   ]
  },
  {
   "cell_type": "code",
   "execution_count": null,
   "metadata": {
    "collapsed": false
   },
   "outputs": [
    {
     "data": {
      "text/plain": [
       "讲座     70\n",
       "演出     18\n",
       "科技赛    82\n",
       "会议     20\n",
       "球赛      8\n",
       "论坛     12\n",
       "dtype: int64"
      ]
     },
     "execution_count": null,
     "metadata": {},
     "output_type": "execute_result"
    }
   ],
   "source": [
    "#3)修改演出对应的值为18；\n",
    "# 1\n",
    "s[\"演出\"]=17\n",
    "# 2\n",
    "s.loc[\"演出\"]=18\n",
    "s"
   ]
  },
  {
   "cell_type": "code",
   "execution_count": null,
   "metadata": {
    "collapsed": false
   },
   "outputs": [
    {
     "data": {
      "text/plain": [
       "科技赛    82\n",
       "会议     20\n",
       "论坛     12\n",
       "dtype: int64"
      ]
     },
     "execution_count": null,
     "metadata": {},
     "output_type": "execute_result"
    }
   ],
   "source": [
    "#4)查询后3个活动；\n",
    "s.tail(3)"
   ]
  },
  {
   "cell_type": "code",
   "execution_count": null,
   "metadata": {
    "collapsed": false
   },
   "outputs": [
    {
     "data": {
      "text/plain": [
       "讲座     70\n",
       "科技赛    82\n",
       "dtype: int64"
      ]
     },
     "execution_count": null,
     "metadata": {},
     "output_type": "execute_result"
    }
   ],
   "source": [
    "#5)查询次数大于20的活动；\n",
    "# 1\n",
    "s[s>20]\n",
    "# 2\n",
    "n=np.array(s>20)\n",
    "s.iloc[n]"
   ]
  },
  {
   "cell_type": "code",
   "execution_count": null,
   "metadata": {
    "collapsed": false
   },
   "outputs": [
    {
     "data": {
      "text/plain": [
       "讲座     70\n",
       "演出     15\n",
       "科技赛    82\n",
       "会议     20\n",
       "dtype: int64"
      ]
     },
     "execution_count": null,
     "metadata": {},
     "output_type": "execute_result"
    }
   ],
   "source": [
    "#6)删除球赛的数据。\n",
    "# 1\n",
    "del s[\"球赛\"]\n",
    "# 2\n",
    "s.drop(\"球赛\",inplace=True,axis=0)\n",
    "s"
   ]
  },
  {
   "cell_type": "markdown",
   "metadata": {
    "collapsed": false
   },
   "source": [
    "# 3. DataFrame对象的使用。\n",
    "创建并访问DataFrame对象。\n",
    "【提示】生成数据时，可使用numpy的arange()函数和reshape()函数。"
   ]
  },
  {
   "cell_type": "code",
   "execution_count": null,
   "metadata": {
    "collapsed": false
   },
   "outputs": [
    {
     "data": {
      "text/html": [
       "<div>\n",
       "<style scoped>\n",
       "    .dataframe tbody tr th:only-of-type {\n",
       "        vertical-align: middle;\n",
       "    }\n",
       "\n",
       "    .dataframe tbody tr th {\n",
       "        vertical-align: top;\n",
       "    }\n",
       "\n",
       "    .dataframe thead th {\n",
       "        text-align: right;\n",
       "    }\n",
       "</style>\n",
       "<table border=\"1\" class=\"dataframe\">\n",
       "  <thead>\n",
       "    <tr style=\"text-align: right;\">\n",
       "      <th></th>\n",
       "      <th>one</th>\n",
       "      <th>two</th>\n",
       "      <th>three</th>\n",
       "    </tr>\n",
       "  </thead>\n",
       "  <tbody>\n",
       "    <tr>\n",
       "      <th>a</th>\n",
       "      <td>1</td>\n",
       "      <td>2</td>\n",
       "      <td>3</td>\n",
       "    </tr>\n",
       "    <tr>\n",
       "      <th>b</th>\n",
       "      <td>4</td>\n",
       "      <td>5</td>\n",
       "      <td>6</td>\n",
       "    </tr>\n",
       "    <tr>\n",
       "      <th>c</th>\n",
       "      <td>7</td>\n",
       "      <td>8</td>\n",
       "      <td>9</td>\n",
       "    </tr>\n",
       "  </tbody>\n",
       "</table>\n",
       "</div>"
      ],
      "text/plain": [
       "   one  two  three\n",
       "a    1    2      3\n",
       "b    4    5      6\n",
       "c    7    8      9"
      ]
     },
     "execution_count": null,
     "metadata": {},
     "output_type": "execute_result"
    }
   ],
   "source": [
    "#1)创建3×3DataFrame数据对象：数据内容为1-9；行索引为字符a，b，c；列索引为字符串one，two，three；\n",
    "import pandas as pd\n",
    "array=np.arange(1,10).reshape(3,3)\n",
    "column=np.array([\"one\",\"two\",\"three\"])\n",
    "index=np.array([\"a\",\"b\",\"c\"])\n",
    "df=pd.DataFrame(data=array,columns=column,index=index)\n",
    "df"
   ]
  },
  {
   "cell_type": "code",
   "execution_count": null,
   "metadata": {
    "collapsed": false
   },
   "outputs": [
    {
     "data": {
      "text/html": [
       "<div>\n",
       "<style scoped>\n",
       "    .dataframe tbody tr th:only-of-type {\n",
       "        vertical-align: middle;\n",
       "    }\n",
       "\n",
       "    .dataframe tbody tr th {\n",
       "        vertical-align: top;\n",
       "    }\n",
       "\n",
       "    .dataframe thead th {\n",
       "        text-align: right;\n",
       "    }\n",
       "</style>\n",
       "<table border=\"1\" class=\"dataframe\">\n",
       "  <thead>\n",
       "    <tr style=\"text-align: right;\">\n",
       "      <th></th>\n",
       "      <th>two</th>\n",
       "      <th>three</th>\n",
       "    </tr>\n",
       "  </thead>\n",
       "  <tbody>\n",
       "    <tr>\n",
       "      <th>a</th>\n",
       "      <td>2</td>\n",
       "      <td>3</td>\n",
       "    </tr>\n",
       "    <tr>\n",
       "      <th>b</th>\n",
       "      <td>5</td>\n",
       "      <td>6</td>\n",
       "    </tr>\n",
       "    <tr>\n",
       "      <th>c</th>\n",
       "      <td>8</td>\n",
       "      <td>9</td>\n",
       "    </tr>\n",
       "  </tbody>\n",
       "</table>\n",
       "</div>"
      ],
      "text/plain": [
       "   two  three\n",
       "a    2      3\n",
       "b    5      6\n",
       "c    8      9"
      ]
     },
     "execution_count": null,
     "metadata": {},
     "output_type": "execute_result"
    }
   ],
   "source": [
    "#2) 查询列索引为two和three两列数据；\n",
    "df.loc[:,[\"two\",\"three\"]]"
   ]
  },
  {
   "cell_type": "code",
   "execution_count": null,
   "metadata": {
    "collapsed": false
   },
   "outputs": [
    {
     "data": {
      "text/html": [
       "<div>\n",
       "<style scoped>\n",
       "    .dataframe tbody tr th:only-of-type {\n",
       "        vertical-align: middle;\n",
       "    }\n",
       "\n",
       "    .dataframe tbody tr th {\n",
       "        vertical-align: top;\n",
       "    }\n",
       "\n",
       "    .dataframe thead th {\n",
       "        text-align: right;\n",
       "    }\n",
       "</style>\n",
       "<table border=\"1\" class=\"dataframe\">\n",
       "  <thead>\n",
       "    <tr style=\"text-align: right;\">\n",
       "      <th></th>\n",
       "      <th>one</th>\n",
       "      <th>three</th>\n",
       "    </tr>\n",
       "  </thead>\n",
       "  <tbody>\n",
       "    <tr>\n",
       "      <th>a</th>\n",
       "      <td>1</td>\n",
       "      <td>3</td>\n",
       "    </tr>\n",
       "    <tr>\n",
       "      <th>c</th>\n",
       "      <td>7</td>\n",
       "      <td>9</td>\n",
       "    </tr>\n",
       "  </tbody>\n",
       "</table>\n",
       "</div>"
      ],
      "text/plain": [
       "   one  three\n",
       "a    1      3\n",
       "c    7      9"
      ]
     },
     "execution_count": null,
     "metadata": {},
     "output_type": "execute_result"
    }
   ],
   "source": [
    "#3)查询第0行、第2行、第0列、第2列数据；\n",
    "df.iloc[[0,2],[0,2]]"
   ]
  },
  {
   "cell_type": "code",
   "execution_count": null,
   "metadata": {
    "collapsed": false
   },
   "outputs": [
    {
     "data": {
      "text/html": [
       "<div>\n",
       "<style scoped>\n",
       "    .dataframe tbody tr th:only-of-type {\n",
       "        vertical-align: middle;\n",
       "    }\n",
       "\n",
       "    .dataframe tbody tr th {\n",
       "        vertical-align: top;\n",
       "    }\n",
       "\n",
       "    .dataframe thead th {\n",
       "        text-align: right;\n",
       "    }\n",
       "</style>\n",
       "<table border=\"1\" class=\"dataframe\">\n",
       "  <thead>\n",
       "    <tr style=\"text-align: right;\">\n",
       "      <th></th>\n",
       "      <th>one</th>\n",
       "      <th>two</th>\n",
       "      <th>three</th>\n",
       "    </tr>\n",
       "  </thead>\n",
       "  <tbody>\n",
       "    <tr>\n",
       "      <th>b</th>\n",
       "      <td>4</td>\n",
       "      <td>5</td>\n",
       "      <td>6</td>\n",
       "    </tr>\n",
       "    <tr>\n",
       "      <th>c</th>\n",
       "      <td>7</td>\n",
       "      <td>8</td>\n",
       "      <td>9</td>\n",
       "    </tr>\n",
       "  </tbody>\n",
       "</table>\n",
       "</div>"
      ],
      "text/plain": [
       "   one  two  three\n",
       "b    4    5      6\n",
       "c    7    8      9"
      ]
     },
     "execution_count": null,
     "metadata": {},
     "output_type": "execute_result"
    }
   ],
   "source": [
    "#4) 筛选第1列中值大于2的所有行数据，另存为data1对象；\n",
    "data1=df[df.iloc[:,1]>2]\n",
    "data1"
   ]
  },
  {
   "cell_type": "code",
   "execution_count": null,
   "metadata": {
    "collapsed": false
   },
   "outputs": [
    {
     "name": "stderr",
     "output_type": "stream",
     "text": [
      "/opt/conda/envs/python35-paddle120-env/lib/python3.7/site-packages/ipykernel_launcher.py:3: SettingWithCopyWarning: \n",
      "A value is trying to be set on a copy of a slice from a DataFrame.\n",
      "Try using .loc[row_indexer,col_indexer] = value instead\n",
      "\n",
      "See the caveats in the documentation: http://pandas.pydata.org/pandas-docs/stable/indexing.html#indexing-view-versus-copy\n",
      "  This is separate from the ipykernel package so we can avoid doing imports until\n"
     ]
    },
    {
     "data": {
      "text/html": [
       "<div>\n",
       "<style scoped>\n",
       "    .dataframe tbody tr th:only-of-type {\n",
       "        vertical-align: middle;\n",
       "    }\n",
       "\n",
       "    .dataframe tbody tr th {\n",
       "        vertical-align: top;\n",
       "    }\n",
       "\n",
       "    .dataframe thead th {\n",
       "        text-align: right;\n",
       "    }\n",
       "</style>\n",
       "<table border=\"1\" class=\"dataframe\">\n",
       "  <thead>\n",
       "    <tr style=\"text-align: right;\">\n",
       "      <th></th>\n",
       "      <th>one</th>\n",
       "      <th>two</th>\n",
       "      <th>three</th>\n",
       "      <th>four</th>\n",
       "    </tr>\n",
       "  </thead>\n",
       "  <tbody>\n",
       "    <tr>\n",
       "      <th>b</th>\n",
       "      <td>4</td>\n",
       "      <td>5</td>\n",
       "      <td>6</td>\n",
       "      <td>10</td>\n",
       "    </tr>\n",
       "    <tr>\n",
       "      <th>c</th>\n",
       "      <td>7</td>\n",
       "      <td>8</td>\n",
       "      <td>9</td>\n",
       "      <td>10</td>\n",
       "    </tr>\n",
       "  </tbody>\n",
       "</table>\n",
       "</div>"
      ],
      "text/plain": [
       "   one  two  three  four\n",
       "b    4    5      6    10\n",
       "c    7    8      9    10"
      ]
     },
     "execution_count": null,
     "metadata": {},
     "output_type": "execute_result"
    }
   ],
   "source": [
    "#5) 为data1添加一列数据，列索引为four，值都为10；\n",
    "# 修改原对象\n",
    "data1[\"four\"]=[10,10]\n",
    "# 返回一个新对象\n",
    "# data1.assign(four=[10,10])\n",
    "data1"
   ]
  },
  {
   "cell_type": "code",
   "execution_count": null,
   "metadata": {
    "collapsed": false
   },
   "outputs": [
    {
     "name": "stderr",
     "output_type": "stream",
     "text": [
      "/opt/conda/envs/python35-paddle120-env/lib/python3.7/site-packages/ipykernel_launcher.py:2: SettingWithCopyWarning: \n",
      "A value is trying to be set on a copy of a slice from a DataFrame.\n",
      "Try using .loc[row_indexer,col_indexer] = value instead\n",
      "\n",
      "See the caveats in the documentation: http://pandas.pydata.org/pandas-docs/stable/indexing.html#indexing-view-versus-copy\n",
      "  \n",
      "/opt/conda/envs/python35-paddle120-env/lib/python3.7/site-packages/pandas/core/frame.py:3163: SettingWithCopyWarning: \n",
      "A value is trying to be set on a copy of a slice from a DataFrame\n",
      "\n",
      "See the caveats in the documentation: http://pandas.pydata.org/pandas-docs/stable/indexing.html#indexing-view-versus-copy\n",
      "  self._where(-key, value, inplace=True)\n"
     ]
    },
    {
     "data": {
      "text/html": [
       "<div>\n",
       "<style scoped>\n",
       "    .dataframe tbody tr th:only-of-type {\n",
       "        vertical-align: middle;\n",
       "    }\n",
       "\n",
       "    .dataframe tbody tr th {\n",
       "        vertical-align: top;\n",
       "    }\n",
       "\n",
       "    .dataframe thead th {\n",
       "        text-align: right;\n",
       "    }\n",
       "</style>\n",
       "<table border=\"1\" class=\"dataframe\">\n",
       "  <thead>\n",
       "    <tr style=\"text-align: right;\">\n",
       "      <th></th>\n",
       "      <th>one</th>\n",
       "      <th>two</th>\n",
       "      <th>three</th>\n",
       "      <th>four</th>\n",
       "    </tr>\n",
       "  </thead>\n",
       "  <tbody>\n",
       "    <tr>\n",
       "      <th>b</th>\n",
       "      <td>4</td>\n",
       "      <td>5</td>\n",
       "      <td>6</td>\n",
       "      <td>8</td>\n",
       "    </tr>\n",
       "    <tr>\n",
       "      <th>c</th>\n",
       "      <td>7</td>\n",
       "      <td>8</td>\n",
       "      <td>9</td>\n",
       "      <td>8</td>\n",
       "    </tr>\n",
       "  </tbody>\n",
       "</table>\n",
       "</div>"
      ],
      "text/plain": [
       "   one  two  three  four\n",
       "b    4    5      6     8\n",
       "c    7    8      9     8"
      ]
     },
     "execution_count": null,
     "metadata": {},
     "output_type": "execute_result"
    }
   ],
   "source": [
    "#6) 将data1所有值大于9的数据修改为8；\n",
    "data1[data1>9]=8\n",
    "data1"
   ]
  },
  {
   "cell_type": "code",
   "execution_count": null,
   "metadata": {
    "collapsed": false
   },
   "outputs": [
    {
     "name": "stderr",
     "output_type": "stream",
     "text": [
      "/opt/conda/envs/python35-paddle120-env/lib/python3.7/site-packages/pandas/core/frame.py:3697: SettingWithCopyWarning: \n",
      "A value is trying to be set on a copy of a slice from a DataFrame\n",
      "\n",
      "See the caveats in the documentation: http://pandas.pydata.org/pandas-docs/stable/indexing.html#indexing-view-versus-copy\n",
      "  errors=errors)\n"
     ]
    },
    {
     "data": {
      "text/html": [
       "<div>\n",
       "<style scoped>\n",
       "    .dataframe tbody tr th:only-of-type {\n",
       "        vertical-align: middle;\n",
       "    }\n",
       "\n",
       "    .dataframe tbody tr th {\n",
       "        vertical-align: top;\n",
       "    }\n",
       "\n",
       "    .dataframe thead th {\n",
       "        text-align: right;\n",
       "    }\n",
       "</style>\n",
       "<table border=\"1\" class=\"dataframe\">\n",
       "  <thead>\n",
       "    <tr style=\"text-align: right;\">\n",
       "      <th></th>\n",
       "      <th>one</th>\n",
       "      <th>two</th>\n",
       "      <th>three</th>\n",
       "      <th>four</th>\n",
       "    </tr>\n",
       "  </thead>\n",
       "  <tbody>\n",
       "    <tr>\n",
       "      <th>c</th>\n",
       "      <td>7</td>\n",
       "      <td>8</td>\n",
       "      <td>9</td>\n",
       "      <td>8</td>\n",
       "    </tr>\n",
       "  </tbody>\n",
       "</table>\n",
       "</div>"
      ],
      "text/plain": [
       "   one  two  three  four\n",
       "c    7    8      9     8"
      ]
     },
     "execution_count": null,
     "metadata": {},
     "output_type": "execute_result"
    }
   ],
   "source": [
    "#7) 删除data1中第0行数据。\n",
    "data1.drop(data1.index[0],inplace=True,axis=0)\n",
    "data1"
   ]
  },
  {
   "cell_type": "markdown",
   "metadata": {
    "collapsed": false
   },
   "source": [
    "# 4.数据文件读取及绘图。\n",
    "【提示】\n",
    "   1)读取数据时，将索引设置为Province；本题需要的数据集已经上传，注意在AI　Studio下文件路径。\n",
    "       pd.read_csv('/home/aistudio/data/data12847/ProvinceGDP.csv', index_col='Province‘) 。\n",
    "   2)为了使图形能显示中文，需要增加绘图字体说明：\n",
    "       plt.rcParams['font.sans-serif'] = ['KaiTi']"
   ]
  },
  {
   "cell_type": "code",
   "execution_count": 2,
   "metadata": {
    "collapsed": false
   },
   "outputs": [
    {
     "data": {
      "text/html": [
       "<div>\n",
       "<style scoped>\n",
       "    .dataframe tbody tr th:only-of-type {\n",
       "        vertical-align: middle;\n",
       "    }\n",
       "\n",
       "    .dataframe tbody tr th {\n",
       "        vertical-align: top;\n",
       "    }\n",
       "\n",
       "    .dataframe thead th {\n",
       "        text-align: right;\n",
       "    }\n",
       "</style>\n",
       "<table border=\"1\" class=\"dataframe\">\n",
       "  <thead>\n",
       "    <tr style=\"text-align: right;\">\n",
       "      <th></th>\n",
       "      <th>No</th>\n",
       "      <th>Population</th>\n",
       "      <th>GDP</th>\n",
       "      <th>ProvinceCapital</th>\n",
       "      <th>Longitude</th>\n",
       "      <th>Latitude</th>\n",
       "    </tr>\n",
       "    <tr>\n",
       "      <th>Province</th>\n",
       "      <th></th>\n",
       "      <th></th>\n",
       "      <th></th>\n",
       "      <th></th>\n",
       "      <th></th>\n",
       "      <th></th>\n",
       "    </tr>\n",
       "  </thead>\n",
       "  <tbody>\n",
       "    <tr>\n",
       "      <th>河南</th>\n",
       "      <td>1</td>\n",
       "      <td>9613</td>\n",
       "      <td>14234</td>\n",
       "      <td>郑州</td>\n",
       "      <td>113.42</td>\n",
       "      <td>34.48</td>\n",
       "    </tr>\n",
       "    <tr>\n",
       "      <th>山东</th>\n",
       "      <td>2</td>\n",
       "      <td>9082</td>\n",
       "      <td>25326</td>\n",
       "      <td>济南</td>\n",
       "      <td>117.00</td>\n",
       "      <td>36.38</td>\n",
       "    </tr>\n",
       "    <tr>\n",
       "      <th>四川</th>\n",
       "      <td>3</td>\n",
       "      <td>8673</td>\n",
       "      <td>9657</td>\n",
       "      <td>成都</td>\n",
       "      <td>104.05</td>\n",
       "      <td>30.39</td>\n",
       "    </tr>\n",
       "    <tr>\n",
       "      <th>广东</th>\n",
       "      <td>4</td>\n",
       "      <td>7859</td>\n",
       "      <td>29863</td>\n",
       "      <td>广州</td>\n",
       "      <td>113.15</td>\n",
       "      <td>23.08</td>\n",
       "    </tr>\n",
       "    <tr>\n",
       "      <th>江苏</th>\n",
       "      <td>5</td>\n",
       "      <td>7381</td>\n",
       "      <td>24738</td>\n",
       "      <td>南京</td>\n",
       "      <td>118.50</td>\n",
       "      <td>32.02</td>\n",
       "    </tr>\n",
       "    <tr>\n",
       "      <th>河北</th>\n",
       "      <td>6</td>\n",
       "      <td>6735</td>\n",
       "      <td>13387</td>\n",
       "      <td>石家庄</td>\n",
       "      <td>114.28</td>\n",
       "      <td>38.02</td>\n",
       "    </tr>\n",
       "    <tr>\n",
       "      <th>湖南</th>\n",
       "      <td>7</td>\n",
       "      <td>6629</td>\n",
       "      <td>8366</td>\n",
       "      <td>长沙</td>\n",
       "      <td>113.00</td>\n",
       "      <td>28.11</td>\n",
       "    </tr>\n",
       "    <tr>\n",
       "      <th>安徽</th>\n",
       "      <td>8</td>\n",
       "      <td>6338</td>\n",
       "      <td>6906</td>\n",
       "      <td>合肥</td>\n",
       "      <td>117.18</td>\n",
       "      <td>31.51</td>\n",
       "    </tr>\n",
       "    <tr>\n",
       "      <th>湖北</th>\n",
       "      <td>9</td>\n",
       "      <td>5988</td>\n",
       "      <td>8451</td>\n",
       "      <td>武汉</td>\n",
       "      <td>114.21</td>\n",
       "      <td>30.37</td>\n",
       "    </tr>\n",
       "    <tr>\n",
       "      <th>广西</th>\n",
       "      <td>10</td>\n",
       "      <td>4822</td>\n",
       "      <td>5386</td>\n",
       "      <td>南宁</td>\n",
       "      <td>108.20</td>\n",
       "      <td>22.48</td>\n",
       "    </tr>\n",
       "    <tr>\n",
       "      <th>浙江</th>\n",
       "      <td>11</td>\n",
       "      <td>4647</td>\n",
       "      <td>17633</td>\n",
       "      <td>杭州</td>\n",
       "      <td>120.09</td>\n",
       "      <td>30.14</td>\n",
       "    </tr>\n",
       "    <tr>\n",
       "      <th>云南</th>\n",
       "      <td>12</td>\n",
       "      <td>4333</td>\n",
       "      <td>4260</td>\n",
       "      <td>昆明</td>\n",
       "      <td>102.41</td>\n",
       "      <td>25.00</td>\n",
       "    </tr>\n",
       "    <tr>\n",
       "      <th>江西</th>\n",
       "      <td>13</td>\n",
       "      <td>4222</td>\n",
       "      <td>5323</td>\n",
       "      <td>南昌</td>\n",
       "      <td>115.52</td>\n",
       "      <td>28.41</td>\n",
       "    </tr>\n",
       "    <tr>\n",
       "      <th>辽宁</th>\n",
       "      <td>14</td>\n",
       "      <td>4203</td>\n",
       "      <td>10418</td>\n",
       "      <td>沈阳</td>\n",
       "      <td>123.24</td>\n",
       "      <td>41.50</td>\n",
       "    </tr>\n",
       "    <tr>\n",
       "      <th>贵州</th>\n",
       "      <td>15</td>\n",
       "      <td>3837</td>\n",
       "      <td>2543</td>\n",
       "      <td>贵阳</td>\n",
       "      <td>106.42</td>\n",
       "      <td>26.35</td>\n",
       "    </tr>\n",
       "    <tr>\n",
       "      <th>黑龙</th>\n",
       "      <td>16</td>\n",
       "      <td>3813</td>\n",
       "      <td>7081</td>\n",
       "      <td>哈尔滨</td>\n",
       "      <td>126.41</td>\n",
       "      <td>45.45</td>\n",
       "    </tr>\n",
       "    <tr>\n",
       "      <th>陕西</th>\n",
       "      <td>17</td>\n",
       "      <td>3674</td>\n",
       "      <td>4806</td>\n",
       "      <td>西安</td>\n",
       "      <td>108.54</td>\n",
       "      <td>34.16</td>\n",
       "    </tr>\n",
       "    <tr>\n",
       "      <th>福建</th>\n",
       "      <td>18</td>\n",
       "      <td>3466</td>\n",
       "      <td>8440</td>\n",
       "      <td>福州</td>\n",
       "      <td>119.18</td>\n",
       "      <td>26.05</td>\n",
       "    </tr>\n",
       "    <tr>\n",
       "      <th>山西</th>\n",
       "      <td>19</td>\n",
       "      <td>3294</td>\n",
       "      <td>5465</td>\n",
       "      <td>太原</td>\n",
       "      <td>112.34</td>\n",
       "      <td>37.52</td>\n",
       "    </tr>\n",
       "    <tr>\n",
       "      <th>重庆</th>\n",
       "      <td>20</td>\n",
       "      <td>3107</td>\n",
       "      <td>3938</td>\n",
       "      <td>重庆</td>\n",
       "      <td>106.32</td>\n",
       "      <td>29.32</td>\n",
       "    </tr>\n",
       "    <tr>\n",
       "      <th>吉林</th>\n",
       "      <td>21</td>\n",
       "      <td>2699</td>\n",
       "      <td>4693</td>\n",
       "      <td>长春</td>\n",
       "      <td>125.19</td>\n",
       "      <td>43.52</td>\n",
       "    </tr>\n",
       "    <tr>\n",
       "      <th>甘肃</th>\n",
       "      <td>22</td>\n",
       "      <td>2593</td>\n",
       "      <td>2494</td>\n",
       "      <td>兰州</td>\n",
       "      <td>103.49</td>\n",
       "      <td>36.03</td>\n",
       "    </tr>\n",
       "    <tr>\n",
       "      <th>内蒙</th>\n",
       "      <td>23</td>\n",
       "      <td>2379</td>\n",
       "      <td>6140</td>\n",
       "      <td>呼和浩特</td>\n",
       "      <td>111.48</td>\n",
       "      <td>40.49</td>\n",
       "    </tr>\n",
       "    <tr>\n",
       "      <th>新疆</th>\n",
       "      <td>24</td>\n",
       "      <td>1905</td>\n",
       "      <td>3305</td>\n",
       "      <td>乌鲁木齐</td>\n",
       "      <td>87.36</td>\n",
       "      <td>43.48</td>\n",
       "    </tr>\n",
       "    <tr>\n",
       "      <th>上海</th>\n",
       "      <td>25</td>\n",
       "      <td>1625</td>\n",
       "      <td>11658</td>\n",
       "      <td>上海</td>\n",
       "      <td>121.29</td>\n",
       "      <td>31.14</td>\n",
       "    </tr>\n",
       "    <tr>\n",
       "      <th>北京</th>\n",
       "      <td>26</td>\n",
       "      <td>1423</td>\n",
       "      <td>8879</td>\n",
       "      <td>北京</td>\n",
       "      <td>116.28</td>\n",
       "      <td>39.54</td>\n",
       "    </tr>\n",
       "    <tr>\n",
       "      <th>天津</th>\n",
       "      <td>27</td>\n",
       "      <td>1007</td>\n",
       "      <td>5014</td>\n",
       "      <td>天津</td>\n",
       "      <td>117.11</td>\n",
       "      <td>39.09</td>\n",
       "    </tr>\n",
       "    <tr>\n",
       "      <th>海南</th>\n",
       "      <td>28</td>\n",
       "      <td>803</td>\n",
       "      <td>1121</td>\n",
       "      <td>海口</td>\n",
       "      <td>110.20</td>\n",
       "      <td>20.02</td>\n",
       "    </tr>\n",
       "    <tr>\n",
       "      <th>宁夏</th>\n",
       "      <td>29</td>\n",
       "      <td>572</td>\n",
       "      <td>769</td>\n",
       "      <td>银川</td>\n",
       "      <td>106.16</td>\n",
       "      <td>38.20</td>\n",
       "    </tr>\n",
       "    <tr>\n",
       "      <th>青海</th>\n",
       "      <td>30</td>\n",
       "      <td>529</td>\n",
       "      <td>706</td>\n",
       "      <td>西宁</td>\n",
       "      <td>101.45</td>\n",
       "      <td>36.38</td>\n",
       "    </tr>\n",
       "    <tr>\n",
       "      <th>西藏</th>\n",
       "      <td>31</td>\n",
       "      <td>267</td>\n",
       "      <td>326</td>\n",
       "      <td>拉萨</td>\n",
       "      <td>91.10</td>\n",
       "      <td>29.40</td>\n",
       "    </tr>\n",
       "  </tbody>\n",
       "</table>\n",
       "</div>"
      ],
      "text/plain": [
       "          No  Population    GDP ProvinceCapital  Longitude  Latitude\n",
       "Province                                                            \n",
       "河南         1        9613  14234              郑州     113.42     34.48\n",
       "山东         2        9082  25326              济南     117.00     36.38\n",
       "四川         3        8673   9657              成都     104.05     30.39\n",
       "广东         4        7859  29863              广州     113.15     23.08\n",
       "江苏         5        7381  24738              南京     118.50     32.02\n",
       "河北         6        6735  13387             石家庄     114.28     38.02\n",
       "湖南         7        6629   8366              长沙     113.00     28.11\n",
       "安徽         8        6338   6906              合肥     117.18     31.51\n",
       "湖北         9        5988   8451              武汉     114.21     30.37\n",
       "广西        10        4822   5386              南宁     108.20     22.48\n",
       "浙江        11        4647  17633              杭州     120.09     30.14\n",
       "云南        12        4333   4260              昆明     102.41     25.00\n",
       "江西        13        4222   5323              南昌     115.52     28.41\n",
       "辽宁        14        4203  10418              沈阳     123.24     41.50\n",
       "贵州        15        3837   2543              贵阳     106.42     26.35\n",
       "黑龙        16        3813   7081             哈尔滨     126.41     45.45\n",
       "陕西        17        3674   4806              西安     108.54     34.16\n",
       "福建        18        3466   8440              福州     119.18     26.05\n",
       "山西        19        3294   5465              太原     112.34     37.52\n",
       "重庆        20        3107   3938              重庆     106.32     29.32\n",
       "吉林        21        2699   4693              长春     125.19     43.52\n",
       "甘肃        22        2593   2494              兰州     103.49     36.03\n",
       "内蒙        23        2379   6140            呼和浩特     111.48     40.49\n",
       "新疆        24        1905   3305            乌鲁木齐      87.36     43.48\n",
       "上海        25        1625  11658              上海     121.29     31.14\n",
       "北京        26        1423   8879              北京     116.28     39.54\n",
       "天津        27        1007   5014              天津     117.11     39.09\n",
       "海南        28         803   1121              海口     110.20     20.02\n",
       "宁夏        29         572    769              银川     106.16     38.20\n",
       "青海        30         529    706              西宁     101.45     36.38\n",
       "西藏        31         267    326              拉萨      91.10     29.40"
      ]
     },
     "execution_count": 2,
     "metadata": {},
     "output_type": "execute_result"
    }
   ],
   "source": [
    "#1）读取ProvinceGDP.csv文件中的各省GDP数据，保存到DataFrame对象；\n",
    "import pandas as pd\n",
    "ddf=pd.read_csv('/home/aistudio/data/data12847/ProvinceGDP.csv', index_col='Province')\n",
    "ddf"
   ]
  },
  {
   "cell_type": "code",
   "execution_count": 1,
   "metadata": {
    "collapsed": false
   },
   "outputs": [
    {
     "ename": "NameError",
     "evalue": "name 'ddf' is not defined",
     "output_type": "error",
     "traceback": [
      "\u001b[0;31m---------------------------------------------------------------------------\u001b[0m",
      "\u001b[0;31mNameError\u001b[0m                                 Traceback (most recent call last)",
      "\u001b[0;32m<ipython-input-1-939aad723096>\u001b[0m in \u001b[0;36m<module>\u001b[0;34m\u001b[0m\n\u001b[1;32m      2\u001b[0m \u001b[0;31m# ddf.assign(pGDP=ddf[\"GDP\"]/ddf[\"Population\"])\u001b[0m\u001b[0;34m\u001b[0m\u001b[0;34m\u001b[0m\u001b[0;34m\u001b[0m\u001b[0m\n\u001b[1;32m      3\u001b[0m \u001b[0;31m# dff=ddf.assign(PGDP=lambda x: x.GDP/x.Population)\u001b[0m\u001b[0;34m\u001b[0m\u001b[0;34m\u001b[0m\u001b[0;34m\u001b[0m\u001b[0m\n\u001b[0;32m----> 4\u001b[0;31m \u001b[0mdff\u001b[0m\u001b[0;34m[\u001b[0m\u001b[0;34m\"PGDP\"\u001b[0m\u001b[0;34m]\u001b[0m\u001b[0;34m=\u001b[0m\u001b[0mddf\u001b[0m\u001b[0;34m[\u001b[0m\u001b[0;34m\"GDP\"\u001b[0m\u001b[0;34m]\u001b[0m\u001b[0;34m/\u001b[0m\u001b[0mddf\u001b[0m\u001b[0;34m[\u001b[0m\u001b[0;34m\"Population\"\u001b[0m\u001b[0;34m]\u001b[0m\u001b[0;34m\u001b[0m\u001b[0;34m\u001b[0m\u001b[0m\n\u001b[0m\u001b[1;32m      5\u001b[0m \u001b[0mdff\u001b[0m\u001b[0;34m\u001b[0m\u001b[0;34m\u001b[0m\u001b[0m\n",
      "\u001b[0;31mNameError\u001b[0m: name 'ddf' is not defined"
     ]
    }
   ],
   "source": [
    "#2)计算各省人均GDP，增加到最后1列；(注意数据中的人口单位万人，GDP单位亿元)\n",
    "# ddf.assign(pGDP=ddf[\"GDP\"]/ddf[\"Population\"])\n",
    "# dff=ddf.assign(PGDP=lambda x: x.GDP/x.Population)\n",
    "dff[\"PGDP\"]=ddf[\"GDP\"]/ddf[\"Population\"]\n",
    "dff"
   ]
  },
  {
   "cell_type": "code",
   "execution_count": null,
   "metadata": {
    "collapsed": false
   },
   "outputs": [
    {
     "data": {
      "text/plain": [
       "261326"
      ]
     },
     "execution_count": null,
     "metadata": {},
     "output_type": "execute_result"
    }
   ],
   "source": [
    "#3)计算全国GDP总量；\r\n",
    "ddf[\"GDP\"].sum()"
   ]
  },
  {
   "cell_type": "code",
   "execution_count": null,
   "metadata": {
    "collapsed": false
   },
   "outputs": [
    {
     "data": {
      "text/plain": [
       "0.7140955996199457"
      ]
     },
     "execution_count": null,
     "metadata": {},
     "output_type": "execute_result"
    }
   ],
   "source": [
    "#4)计算人口和GDP的相关系数；\r\n",
    "ddf.corr().loc[\"Population\",\"GDP\"]"
   ]
  },
  {
   "cell_type": "code",
   "execution_count": 3,
   "metadata": {
    "collapsed": false
   },
   "outputs": [
    {
     "data": {
      "text/html": [
       "<div>\n",
       "<style scoped>\n",
       "    .dataframe tbody tr th:only-of-type {\n",
       "        vertical-align: middle;\n",
       "    }\n",
       "\n",
       "    .dataframe tbody tr th {\n",
       "        vertical-align: top;\n",
       "    }\n",
       "\n",
       "    .dataframe thead th {\n",
       "        text-align: right;\n",
       "    }\n",
       "</style>\n",
       "<table border=\"1\" class=\"dataframe\">\n",
       "  <thead>\n",
       "    <tr style=\"text-align: right;\">\n",
       "      <th></th>\n",
       "      <th>GDP</th>\n",
       "    </tr>\n",
       "    <tr>\n",
       "      <th>Province</th>\n",
       "      <th></th>\n",
       "    </tr>\n",
       "  </thead>\n",
       "  <tbody>\n",
       "    <tr>\n",
       "      <th>河南</th>\n",
       "      <td>14234</td>\n",
       "    </tr>\n",
       "    <tr>\n",
       "      <th>山东</th>\n",
       "      <td>25326</td>\n",
       "    </tr>\n",
       "    <tr>\n",
       "      <th>广东</th>\n",
       "      <td>29863</td>\n",
       "    </tr>\n",
       "    <tr>\n",
       "      <th>江苏</th>\n",
       "      <td>24738</td>\n",
       "    </tr>\n",
       "    <tr>\n",
       "      <th>河北</th>\n",
       "      <td>13387</td>\n",
       "    </tr>\n",
       "    <tr>\n",
       "      <th>浙江</th>\n",
       "      <td>17633</td>\n",
       "    </tr>\n",
       "    <tr>\n",
       "      <th>辽宁</th>\n",
       "      <td>10418</td>\n",
       "    </tr>\n",
       "    <tr>\n",
       "      <th>上海</th>\n",
       "      <td>11658</td>\n",
       "    </tr>\n",
       "  </tbody>\n",
       "</table>\n",
       "</div>"
      ],
      "text/plain": [
       "            GDP\n",
       "Province       \n",
       "河南        14234\n",
       "山东        25326\n",
       "广东        29863\n",
       "江苏        24738\n",
       "河北        13387\n",
       "浙江        17633\n",
       "辽宁        10418\n",
       "上海        11658"
      ]
     },
     "execution_count": 3,
     "metadata": {},
     "output_type": "execute_result"
    }
   ],
   "source": [
    "#5）筛选出GDP>10000万亿的省份，显示省份和GDP值；\n",
    "# buf=dff[dff[\"GDP\"]>10000][\"GDP\"]\n",
    "buf=pd.DataFrame(ddf[ddf[\"GDP\"]>10000].loc[:,\"GDP\"])\n",
    "buf"
   ]
  },
  {
   "cell_type": "code",
   "execution_count": null,
   "metadata": {
    "collapsed": false
   },
   "outputs": [],
   "source": [
    "#6）将这些省份及GDP值保存到GDPTop.csv的文件中；\n",
    "buf.to_csv('/home/aistudio/data/data12847/GDPTop.csv')"
   ]
  },
  {
   "cell_type": "code",
   "execution_count": 19,
   "metadata": {
    "collapsed": false
   },
   "outputs": [
    {
     "data": {
      "image/png": "[encoded data removed]",
      "text/plain": [
       "<Figure size 432x288 with 1 Axes>"
      ]
     },
     "metadata": {},
     "output_type": "display_data"
    }
   ],
   "source": [
    "#7）绘制GDP>10000万亿的GDP柱状图，并保存为JPG图像。\n",
    "import matplotlib.pyplot as plt\n",
    "import matplotlib\n",
    "import numpy as np\n",
    "from snownlp import SnowNLP\n",
    "\n",
    "GDP=np.array(buf[\"GDP\"])\n",
    "# 不支持中文，转成拼音\n",
    "Province=[\" \".join(SnowNLP(p).pinyin) for p in np.array(buf.index)]\n",
    "\n",
    "width = 1.6\n",
    "ind = np.linspace(0.8,60,len(GDP))\n",
    "\n",
    "# make a square figure\n",
    "fig = plt.figure(1)\n",
    "ax  = fig.add_subplot(111)\n",
    "\n",
    "# Bar Plot\n",
    "ax.bar(ind-width/2,GDP,width,color='green')\n",
    "# Set the ticks on x-axis\n",
    "\n",
    "ax.set_xticks(ind)\n",
    "ax.set_xticklabels(Province)\n",
    "\n",
    "# labels\n",
    "ax.set_xlabel('Province')\n",
    "ax.set_ylabel('GDP')\n",
    "\n",
    "# title\n",
    "ax.set_title('Top GDP Province', bbox={'facecolor':'0.8', 'pad':5})\n",
    "plt.grid(True)\n",
    "plt.show()\n",
    "plt.savefig(\"bar.jpg\")\n",
    "plt.close()\n",
    "\n",
    "\n"
   ]
  }
 ],
 "metadata": {
  "kernelspec": {
   "display_name": "PaddlePaddle 1.5.1 (Python 3.5)",
   "language": "python",
   "name": "py35-paddle1.2.0"
  },
  "language_info": {
   "codemirror_mode": {
    "name": "ipython",
    "version": 3
   },
   "file_extension": ".py",
   "mimetype": "text/x-python",
   "name": "python",
   "nbconvert_exporter": "python",
   "pygments_lexer": "ipython3",
   "version": "3.7.4"
  }
 },
 "nbformat": 4,
 "nbformat_minor": 1
}
