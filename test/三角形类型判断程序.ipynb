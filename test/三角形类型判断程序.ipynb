{
 "cells": [
  {
   "cell_type": "markdown",
   "metadata": {
    "collapsed": false
   },
   "source": [
    "# 三角形类型判断程序"
   ]
  },
  {
   "cell_type": "markdown",
   "metadata": {
    "collapsed": false
   },
   "source": [
    "程序从一个输入中读取三个整数值，这三个整数值代表了三角形三条边的长度。程序显示提示信息，指出该三角形是何种三角形：不规则三角形、等腰三角形还是等边三角形。"
   ]
  },
  {
   "cell_type": "code",
   "execution_count": 18,
   "metadata": {
    "collapsed": false
   },
   "outputs": [
    {
     "name": "stdout",
     "output_type": "stream",
     "text": [
      "this is irregular tri\n"
     ]
    }
   ],
   "source": [
    "data= [int(i)for i in input().split(\" \")]\n",
    "data.sort()\n",
    "# print(data)\n",
    "if data[0]+data[1]<data[2]:\n",
    "    print(\"this is irregular tri\")\n",
    "elif len(set(data))==1:\n",
    "    print(\"this is an all-equal tri\")\n",
    "elif len(set(data))==2:\n",
    "    print(\"this is a equal-waist tri\")\n",
    "else:\n",
    "    print(\"this is a normal tri\")\n"
   ]
  },
  {
   "cell_type": "markdown",
   "metadata": {
    "collapsed": false
   },
   "source": [
    "# 测试程序"
   ]
  },
  {
   "cell_type": "markdown",
   "metadata": {
    "collapsed": false
   },
   "source": [
    "## 测试样例类型\n",
    "1. 是否有这样的测试用例，代表了一个有效的不规则三角形？\n",
    "（注意，如1、2、3和2、5、10这样的测试用例并不能确保“是”的答案，因为具备这样边长的三角形不存在。）\n",
    "2. 是否有这样的测试用例，代表一个有效的等边三角形？\n",
    "3. 是否有这样的测试用例，代表一个有效的等腰三角形？\n",
    "（注意，如2、2、4的测试用例无效，因为这不是一个有效的三角形。）\n",
    "4. 是否至少有三个这样的测试用例，代表有效的等腰三角形，从而可以测试到两等边的所有三种可能情况（如3、3、4；3、4、3；4、3、3）？\n",
    "5. 是否有这样的测试用例，某边的长度等于0？\n",
    "6. 是否有这样的测试用例，某边的长度为负数？\n",
    "7. 是否有这样的测试用例，三个整数皆大于0，其中两个整数之和等于第三个？\n",
    "（也就是说，如果程序判断1、2、3表示一个不规则三角形，它可能就包含一个缺陷。）\n",
    "8. 是否至少有三个第7类的测试用例，列举了一边等于另外两边之和的全部可能情况（如1、2、3；1、3、2；3、1、2）？\n",
    "9. 是否有这样的测试用例，三个整数皆大于0，其中两个整数之和小于第三个整数（如1、2、4；12、15、30）？\n",
    "10. 是否至少有三个第9类的测试用例，列举了一边大于另外两边之和的全部可能情况（如1、2、4；1、4、2；4、1、2）？\n",
    "11. 是否有这样的测试用例，三边长度皆为0（0，0，0）？\n",
    "12. 是否至少有一个这样的测试用例，输入的边长为非整数值（如2. 5、3. 5、5. 5）？\n",
    "13. 是否至少有一个这样的测试用例，输入的边长个数不对（如仅输入了两个而不是三个整数）？\n",
    "14. 对于每一个测试用例，除了定义输入值之外，是否定义了程序针对该输入值的预期输出值？"
   ]
  },
  {
   "cell_type": "code",
   "execution_count": 38,
   "metadata": {
    "collapsed": false
   },
   "outputs": [
    {
     "name": "stdout",
     "output_type": "stream",
     "text": [
      "['2', '3', '5'] 存在两边之和小于等于第三边\n",
      "['3', '3', '3'] this is an all-equal tri\n",
      "['5', '5', '7'] this is a equal-waist tri\n",
      "['5', '5', '7'] this is a equal-waist tri\n",
      "['7', '5', '5'] this is a equal-waist tri\n",
      "['5', '7', '5'] this is a equal-waist tri\n",
      "['0', '5', '6'] 有边等于0\n",
      "['-1', '5', '6'] 某边长度为负数\n",
      "['1', '2', '3'] 存在两边之和小于等于第三边\n",
      "['1', '2', '3'] 存在两边之和小于等于第三边\n",
      "['3', '2', '1'] 存在两边之和小于等于第三边\n",
      "['2', '1', '3'] 存在两边之和小于等于第三边\n",
      "['1', '2', '4'] 存在两边之和小于等于第三边\n",
      "['1', '2', '4'] 存在两边之和小于等于第三边\n",
      "['4', '1', '2'] 存在两边之和小于等于第三边\n",
      "['2', '1', '4'] 存在两边之和小于等于第三边\n",
      "['0', '0', '0'] 三遍均为0 0 0\n",
      "['2.5', '2', '2'] 输入的边长为非整数值\n",
      "['1'] 输入边长个数不对\n",
      "['1', '2'] 输入边长个数不对\n"
     ]
    }
   ],
   "source": [
    "def isint(data):\n",
    "    return not int(data)-data==0\n",
    "        \n",
    "\n",
    "with open(\"test.txt\") as file:\n",
    "    floatbuf=[]\n",
    "    for str in file.readlines():\n",
    "        data=[ i for i in str[:-1].strip(\" \").split(\" \")]\n",
    "        floatbuf=sorted([ float(j) for j in data])\n",
    "        # 5, 11\n",
    "        if \"0\" in data:\n",
    "            print(data, end=\" \")\n",
    "            if data.count(\"0\")==3:\n",
    "                print(\"三遍均为0 0 0\")\n",
    "            else:\n",
    "                print(\"有边等于0\")\n",
    "        elif len(data) !=3:\n",
    "            print(data, end=\" \")\n",
    "            print(\"输入边长个数不对\")\n",
    "        # 6\n",
    "        elif floatbuf[0]<0:\n",
    "            print(data, end=\" \")\n",
    "            print(\"某边长度为负数\")\n",
    "        \n",
    "        # 7 8 9 10\n",
    "        elif floatbuf[0]+floatbuf[1]<=floatbuf[2]:\n",
    "            print(data, end=\" \")\n",
    "            print(\"存在两边之和小于等于第三边\")\n",
    "        # 12\n",
    "        elif isint(floatbuf[0]) or isint(floatbuf[1]) or isint(floatbuf[2]):\n",
    "            print(data, end=\" \")\n",
    "            print(\"输入的边长为非整数值\")\n",
    "        # 2\n",
    "        elif len(set(data))==1:\n",
    "            print(data, end=\" \")\n",
    "            print(\"this is an all-equal tri\")\n",
    "        # 3 4\n",
    "        elif len(set(data))==2:\n",
    "            print(data, end=\" \")\n",
    "            print(\"this is a equal-waist tri\")\n",
    "        # 1\n",
    "        else:\n",
    "            print(data, end=\" \")\n",
    "            print(\"this is a normal tri\")\n"
   ]
  },
  {
   "cell_type": "code",
   "execution_count": null,
   "metadata": {
    "collapsed": false
   },
   "outputs": [],
   "source": []
  }
 ],
 "metadata": {
  "kernelspec": {
   "display_name": "PaddlePaddle 2.0.0b0 (Python 3.5)",
   "language": "python",
   "name": "py35-paddle1.2.0"
  },
  "language_info": {
   "codemirror_mode": {
    "name": "ipython",
    "version": 3
   },
   "file_extension": ".py",
   "mimetype": "text/x-python",
   "name": "python",
   "nbconvert_exporter": "python",
   "pygments_lexer": "ipython3",
   "version": "3.7.4"
  }
 },
 "nbformat": 4,
 "nbformat_minor": 1
}
