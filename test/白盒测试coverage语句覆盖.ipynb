{
 "cells": [
  {
   "cell_type": "markdown",
   "metadata": {
    "collapsed": false
   },
   "source": [
    "# 实验内容 基于控制流的测试：利用coverage进行控制流测试，将每个步骤的结果插入到对应步骤的Markdown cell中\n"
   ]
  },
  {
   "cell_type": "markdown",
   "metadata": {
    "collapsed": false
   },
   "source": [
    "## 在本地IDE开发环境或者AI Studio的终端中完成coverage的安装\n",
    "\n",
    "【截图】\n",
    "![](https://ai-studio-static-online.cdn.bcebos.com/9b98eee8b9364a08b5abcc1d429890bb65f2294c178c4ce2bcedd54986f5eb98)\n"
   ]
  },
  {
   "cell_type": "markdown",
   "metadata": {
    "collapsed": false
   },
   "source": [
    "##  完成排序算法的python实现，命名为sort.py，排序算法可以参照插入排序样例，保存代码截图，**并用工具或手绘的方式完成该算法的流程图**。\n",
    "\n",
    "![](https://ai-studio-static-online.cdn.bcebos.com/bed0b2097f5041c6b0cb8187147353fc81241cf53dce4657ba2a9d879929b37f)"
   ]
  },
  {
   "cell_type": "markdown",
   "metadata": {
    "collapsed": false
   },
   "source": [
    "\n",
    "* 流程图如下:   \n",
    "![](https://ai-studio-static-online.cdn.bcebos.com/f639d96f1353446286523c4705f2d98bbc30298b07de4736af9dcc2a77acb3f7)"
   ]
  },
  {
   "cell_type": "markdown",
   "metadata": {
    "collapsed": false
   },
   "source": [
    "##  利用coverage对sort.py进行语句覆盖的测试，保存测试结果的截图。（注：测试包括收集覆盖信息、查看覆盖概要信息、生成html格式的详细信息三个部分，参考PPT和网上资料）"
   ]
  },
  {
   "cell_type": "markdown",
   "metadata": {
    "collapsed": false
   },
   "source": [
    "* 截图如下：\n",
    "* 截图如下：   \n",
    "1.收集覆盖信息\n",
    "![](https://ai-studio-static-online.cdn.bcebos.com/a1180ddc84f5455fa3ea7e2bfc4d8e24e997230bb4634407803a69f56edf75e1)\n",
    "\n",
    "2.生产html格式   \n",
    "\n",
    "![](https://ai-studio-static-online.cdn.bcebos.com/4b9dd190db0841d583ad07999c1551adc9fa1f9d42074b28ba864ca05ea6904c)\n",
    "![](https://ai-studio-static-online.cdn.bcebos.com/6a453be30cff4a97ad96407dc06f2649869f1b8059ec444fbd1b2cf123f6809e)\n"
   ]
  },
  {
   "cell_type": "markdown",
   "metadata": {
    "collapsed": false
   },
   "source": [
    "##  完成state1.py文件的编写，重复步骤3中coverage的测试并保存测试截图\n",
    "\n",
    "```\n",
    "#state1.py\n",
    "def  demo1(a,b,x):    \n",
    "\tif (a>1 and b==0):        \n",
    "\t\tx=x/a;    \n",
    "\tif(x>1 or a==2):        \n",
    "\t\tx=x+1;    \n",
    "\treturn  x;\n",
    "```"
   ]
  },
  {
   "cell_type": "markdown",
   "metadata": {
    "collapsed": false
   },
   "source": [
    "* 截图如下：   \n",
    "1.收集覆盖信息   \n",
    "![](https://ai-studio-static-online.cdn.bcebos.com/effdd2998bac491999824db3f232fb9037677810179240498ee8d5566ae64f01)\n",
    "\n",
    "2.生产html格式   \n",
    "![](https://ai-studio-static-online.cdn.bcebos.com/67e6abf29dd348a7a341aa1886b50e8f869b6ed37f8d49639e5f92654698825a)\n",
    "![](https://ai-studio-static-online.cdn.bcebos.com/aa3cf39318f942f2a6d098dd7f5d98e405a6f44c56f94025956295b0e884cff4)\n",
    "\n",
    "\n",
    "\n"
   ]
  },
  {
   "cell_type": "markdown",
   "metadata": {
    "collapsed": false
   },
   "source": [
    "5. 结合算法的流程图和上节课关于语句覆盖测试的内容，分析sort.py和state1.py的测试结果之间的差别。"
   ]
  },
  {
   "cell_type": "markdown",
   "metadata": {
    "collapsed": false
   },
   "source": [
    "* 差别   \n",
    "sort.py的测试达到了1000%的语句覆盖   \n",
    "state1.py的测试只达到了90%的语句覆盖，其中第三行的x=x/a没有得到执行；因为给出的所有的测试用例中，第二行的返回总为False,所以第三行没有得到执行。\n"
   ]
  },
  {
   "cell_type": "markdown",
   "metadata": {
    "collapsed": false
   },
   "source": [
    "# 补充：斐波那契数列的多种实现方式（阅读即可，无须做额外的代码实现和实验报告）\n",
    "\n",
    "## 递归"
   ]
  },
  {
   "cell_type": "code",
   "execution_count": 8,
   "metadata": {
    "collapsed": false
   },
   "outputs": [
    {
     "name": "stdout",
     "output_type": "stream",
     "text": [
      "1 1 2 3 5 8 13 21 34 55 89 144 233 377 610 987 1597 2584 4181 6765 10946 17711 28657 46368 75025 121393 196418 317811 514229 "
     ]
    }
   ],
   "source": [
    "def fib_recur(n):\r\n",
    "    assert n >= 0, \"n > 0\"\r\n",
    "    if n<=1:\r\n",
    "        return n\r\n",
    "    return fib_recur(n-1) + fib_recur(n-2)\r\n",
    "\r\n",
    "for i in range(1, 30):\r\n",
    "    print(fib_recur(i), end=' ')"
   ]
  },
  {
   "cell_type": "markdown",
   "metadata": {
    "collapsed": false
   },
   "source": [
    "## 递推法"
   ]
  },
  {
   "cell_type": "code",
   "execution_count": 9,
   "metadata": {
    "collapsed": false
   },
   "outputs": [
    {
     "name": "stdout",
     "output_type": "stream",
     "text": [
      "1 1 2 3 5 8 13 21 34 55 89 144 233 377 610 987 1597 2584 4181 6765 10946 17711 28657 46368 75025 121393 196418 317811 514229 832040 "
     ]
    }
   ],
   "source": [
    "# def fib_loop_for(n):\r\n",
    "#   \ta, b = 0, 1\r\n",
    "#   \tfor _ in range(n):\r\n",
    "#         a, b = b, a + b\r\n",
    "#     return a\r\n",
    "\r\n",
    "def fib_loop_while(n):\r\n",
    "    a, b = 1, 1\r\n",
    "    while n > 0:\r\n",
    "        a, b = b, a + b\r\n",
    "        n -= 1\r\n",
    "    return a\r\n",
    "\r\n",
    "for i in range(30):\r\n",
    "  \tprint(fib_loop_while(i), end=' ')"
   ]
  },
  {
   "cell_type": "markdown",
   "metadata": {
    "collapsed": false
   },
   "source": [
    "## 生成器法"
   ]
  },
  {
   "cell_type": "code",
   "execution_count": 10,
   "metadata": {
    "collapsed": false
   },
   "outputs": [
    {
     "name": "stdout",
     "output_type": "stream",
     "text": [
      "1 1 2 3 5 8 13 21 34 55 89 144 233 377 610 987 1597 2584 4181 6765 10946 17711 28657 46368 75025 121393 196418 317811 514229 832040 "
     ]
    }
   ],
   "source": [
    "def fib_yield_for(n):\r\n",
    "    a, b = 0, 1\r\n",
    "    for _ in range(n):\r\n",
    "        a, b = b, a + b\r\n",
    "        yield a\r\n",
    "\r\n",
    "for i in fib_yield_for(30):\r\n",
    "    print(i, end=' ')"
   ]
  },
  {
   "cell_type": "markdown",
   "metadata": {
    "collapsed": false
   },
   "source": [
    "## 矩阵法"
   ]
  },
  {
   "cell_type": "code",
   "execution_count": 11,
   "metadata": {
    "collapsed": false
   },
   "outputs": [
    {
     "name": "stdout",
     "output_type": "stream",
     "text": [
      "1\n",
      "1\n",
      "2\n",
      "3\n",
      "5\n",
      "8\n",
      "13\n",
      "21\n",
      "34\n",
      "55\n",
      "89\n",
      "144\n",
      "233\n",
      "377\n",
      "610\n",
      "987\n",
      "1597\n",
      "2584\n",
      "4181\n",
      "6765\n",
      "10946\n",
      "17711\n",
      "28657\n",
      "46368\n",
      "75025\n",
      "121393\n",
      "196418\n",
      "317811\n",
      "514229\n",
      "832040\n",
      "1346269\n",
      "2178309\n",
      "3524578\n",
      "5702887\n",
      "9227465\n",
      "14930352\n",
      "24157817\n",
      "39088169\n",
      "63245986\n",
      "102334155\n",
      "165580141\n",
      "267914296\n",
      "433494437\n",
      "701408733\n",
      "1134903170\n",
      "1836311903\n",
      "2971215073\n",
      "4807526976\n",
      "7778742049\n",
      "12586269025\n"
     ]
    }
   ],
   "source": [
    "import numpy as np\r\n",
    "\r\n",
    "### 1\r\n",
    "def fib_matrix(n):\r\n",
    "    for i in range(n):\r\n",
    "        res = pow((np.matrix([[1, 1], [1, 0]], dtype='int64')), i) * np.matrix([[1], [0]])\r\n",
    "        print(int(res[0][0]))\r\n",
    "\r\n",
    "fib_matrix(50)"
   ]
  },
  {
   "cell_type": "code",
   "execution_count": 12,
   "metadata": {
    "collapsed": false
   },
   "outputs": [
    {
     "data": {
      "text/plain": [
       "[1,\n",
       " 1,\n",
       " 2,\n",
       " 3,\n",
       " 5,\n",
       " 8,\n",
       " 13,\n",
       " 21,\n",
       " 34,\n",
       " 55,\n",
       " 89,\n",
       " 144,\n",
       " 233,\n",
       " 377,\n",
       " 610,\n",
       " 987,\n",
       " 1597,\n",
       " 2584,\n",
       " 4181,\n",
       " 6765,\n",
       " 10946,\n",
       " 17711,\n",
       " 28657,\n",
       " 46368,\n",
       " 75025,\n",
       " 121393,\n",
       " 196418,\n",
       " 317811,\n",
       " 514229,\n",
       " 832040]"
      ]
     },
     "execution_count": 12,
     "metadata": {},
     "output_type": "execute_result"
    }
   ],
   "source": [
    "### 2\r\n",
    "# 使用矩阵计算斐波那契数列\r\n",
    "def Fibonacci_Matrix_tool(n):\r\n",
    "    Matrix = np.matrix(\"1 1;1 0\", dtype='int64')\r\n",
    "    # 返回是matrix类型\r\n",
    "    return np.linalg.matrix_power(Matrix, n)\r\n",
    "\r\n",
    "def Fibonacci_Matrix(n):\r\n",
    "    result_list = []\r\n",
    "    for i in range(0, n):\r\n",
    "        result_list.append(np.array(Fibonacci_Matrix_tool(i))[0][0])\r\n",
    "    return result_list\r\n",
    "\r\n",
    "# 调用\r\n",
    "Fibonacci_Matrix(30)"
   ]
  },
  {
   "cell_type": "code",
   "execution_count": 13,
   "metadata": {
    "collapsed": false
   },
   "outputs": [
    {
     "name": "stdout",
     "output_type": "stream",
     "text": [
      "Looking in indexes: https://mirror.baidu.com/pypi/simple/\n",
      "Requirement already satisfied: pytest in /opt/conda/envs/python35-paddle120-env/lib/python3.7/site-packages (6.2.3)\n",
      "Requirement already satisfied: pluggy<1.0.0a1,>=0.12 in /opt/conda/envs/python35-paddle120-env/lib/python3.7/site-packages (from pytest) (0.13.1)\n",
      "Requirement already satisfied: attrs>=19.2.0 in /opt/conda/envs/python35-paddle120-env/lib/python3.7/site-packages (from pytest) (19.2.0)\n",
      "Requirement already satisfied: toml in /opt/conda/envs/python35-paddle120-env/lib/python3.7/site-packages (from pytest) (0.10.0)\n",
      "Requirement already satisfied: packaging in /opt/conda/envs/python35-paddle120-env/lib/python3.7/site-packages (from pytest) (20.9)\n",
      "Requirement already satisfied: importlib-metadata>=0.12; python_version < \"3.8\" in /opt/conda/envs/python35-paddle120-env/lib/python3.7/site-packages (from pytest) (0.23)\n",
      "Requirement already satisfied: py>=1.8.2 in /opt/conda/envs/python35-paddle120-env/lib/python3.7/site-packages (from pytest) (1.10.0)\n",
      "Requirement already satisfied: iniconfig in /opt/conda/envs/python35-paddle120-env/lib/python3.7/site-packages (from pytest) (1.1.1)\n",
      "Requirement already satisfied: pyparsing>=2.0.2 in /opt/conda/envs/python35-paddle120-env/lib/python3.7/site-packages (from packaging->pytest) (2.4.2)\n",
      "Requirement already satisfied: zipp>=0.5 in /opt/conda/envs/python35-paddle120-env/lib/python3.7/site-packages (from importlib-metadata>=0.12; python_version < \"3.8\"->pytest) (0.6.0)\n",
      "Requirement already satisfied: more-itertools in /opt/conda/envs/python35-paddle120-env/lib/python3.7/site-packages (from zipp>=0.5->importlib-metadata>=0.12; python_version < \"3.8\"->pytest) (7.2.0)\n"
     ]
    }
   ],
   "source": [
    "!pip install pytest"
   ]
  },
  {
   "cell_type": "code",
   "execution_count": 14,
   "metadata": {
    "collapsed": false
   },
   "outputs": [],
   "source": [
    "#test_state1.py\r\n",
    "import  pytest;\r\n",
    "import state1; \r\n",
    "@pytest.mark.parametrize(\"a,b,x,r\", [     \r\n",
    "\t(2,0,3,2),\r\n",
    "])\r\n",
    "def test_demo1(a,b,x,r):    \r\n",
    "\tassert state1.demo1(a,b,x)==r;  "
   ]
  }
 ],
 "metadata": {
  "kernelspec": {
   "display_name": "PaddlePaddle 2.0.0b0 (Python 3.5)",
   "language": "python",
   "name": "py35-paddle1.2.0"
  },
  "language_info": {
   "codemirror_mode": {
    "name": "ipython",
    "version": 3
   },
   "file_extension": ".py",
   "mimetype": "text/x-python",
   "name": "python",
   "nbconvert_exporter": "python",
   "pygments_lexer": "ipython3",
   "version": "3.7.4"
  }
 },
 "nbformat": 4,
 "nbformat_minor": 1
}
